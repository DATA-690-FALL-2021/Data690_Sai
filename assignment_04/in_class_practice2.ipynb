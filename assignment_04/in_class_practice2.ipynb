{
  "nbformat": 4,
  "nbformat_minor": 0,
  "metadata": {
    "colab": {
      "name": "in_class_practice2.ipynb",
      "provenance": [],
      "collapsed_sections": [],
      "authorship_tag": "ABX9TyOQND39hj9kTnYvISGkhv7Q",
      "include_colab_link": true
    },
    "kernelspec": {
      "name": "python3",
      "display_name": "Python 3"
    },
    "language_info": {
      "name": "python"
    }
  },
  "cells": [
    {
      "cell_type": "markdown",
      "metadata": {
        "id": "view-in-github",
        "colab_type": "text"
      },
      "source": [
        "<a href=\"https://colab.research.google.com/github/px70339sai/Data690_Sai/blob/main/assignment_04/in_class_practice2.ipynb\" target=\"_parent\"><img src=\"https://colab.research.google.com/assets/colab-badge.svg\" alt=\"Open In Colab\"/></a>"
      ]
    },
    {
      "cell_type": "markdown",
      "metadata": {
        "id": "sZwKE3EANVtl"
      },
      "source": [
        "## Session 4 In-Class Practice 2\n",
        "## Jay Wang\n",
        "## 09/23/2021"
      ]
    },
    {
      "cell_type": "code",
      "metadata": {
        "id": "W0BCkmCSNjzW"
      },
      "source": [
        "import pandas as pd"
      ],
      "execution_count": 38,
      "outputs": []
    },
    {
      "cell_type": "code",
      "metadata": {
        "colab": {
          "base_uri": "https://localhost:8080/",
          "height": 357
        },
        "id": "H80qxtNCNvnW",
        "outputId": "523dcca2-4fab-4f4d-a5d1-378a62c9af12"
      },
      "source": [
        "df = pd.read_csv(\"/content/census_costs.txt\", sep=\"\\t\")\n",
        "df.head(10)"
      ],
      "execution_count": 39,
      "outputs": [
        {
          "output_type": "execute_result",
          "data": {
            "text/html": [
              "<div>\n",
              "<style scoped>\n",
              "    .dataframe tbody tr th:only-of-type {\n",
              "        vertical-align: middle;\n",
              "    }\n",
              "\n",
              "    .dataframe tbody tr th {\n",
              "        vertical-align: top;\n",
              "    }\n",
              "\n",
              "    .dataframe thead th {\n",
              "        text-align: right;\n",
              "    }\n",
              "</style>\n",
              "<table border=\"1\" class=\"dataframe\">\n",
              "  <thead>\n",
              "    <tr style=\"text-align: right;\">\n",
              "      <th></th>\n",
              "      <th>Census Year</th>\n",
              "      <th>Total Population</th>\n",
              "      <th>Census Cost</th>\n",
              "      <th>Average Cost Per Person</th>\n",
              "    </tr>\n",
              "  </thead>\n",
              "  <tbody>\n",
              "    <tr>\n",
              "      <th>0</th>\n",
              "      <td>1790</td>\n",
              "      <td>3,929,214</td>\n",
              "      <td>$44,377</td>\n",
              "      <td>1.13 cents</td>\n",
              "    </tr>\n",
              "    <tr>\n",
              "      <th>1</th>\n",
              "      <td>1800</td>\n",
              "      <td>5,308,483</td>\n",
              "      <td>$66,109</td>\n",
              "      <td>1.24 cents</td>\n",
              "    </tr>\n",
              "    <tr>\n",
              "      <th>2</th>\n",
              "      <td>1810</td>\n",
              "      <td>7,239,881</td>\n",
              "      <td>$178,445</td>\n",
              "      <td>2.46 cents</td>\n",
              "    </tr>\n",
              "    <tr>\n",
              "      <th>3</th>\n",
              "      <td>1820</td>\n",
              "      <td>9,633,822</td>\n",
              "      <td>$208,526</td>\n",
              "      <td>2.16 cents</td>\n",
              "    </tr>\n",
              "    <tr>\n",
              "      <th>4</th>\n",
              "      <td>1830</td>\n",
              "      <td>12,866,020</td>\n",
              "      <td>$378,545</td>\n",
              "      <td>2.94 cents</td>\n",
              "    </tr>\n",
              "    <tr>\n",
              "      <th>5</th>\n",
              "      <td>1840</td>\n",
              "      <td>17,069,458</td>\n",
              "      <td>$833,371</td>\n",
              "      <td>4.88 cents</td>\n",
              "    </tr>\n",
              "    <tr>\n",
              "      <th>6</th>\n",
              "      <td>1850</td>\n",
              "      <td>23,191,876</td>\n",
              "      <td>$1,423,351</td>\n",
              "      <td>6.14 cents</td>\n",
              "    </tr>\n",
              "    <tr>\n",
              "      <th>7</th>\n",
              "      <td>1860</td>\n",
              "      <td>31,443,321</td>\n",
              "      <td>$1,969,377</td>\n",
              "      <td>6.26 cents</td>\n",
              "    </tr>\n",
              "    <tr>\n",
              "      <th>8</th>\n",
              "      <td>1870</td>\n",
              "      <td>38,558,371</td>\n",
              "      <td>$3,421,198</td>\n",
              "      <td>8.87 cents</td>\n",
              "    </tr>\n",
              "    <tr>\n",
              "      <th>9</th>\n",
              "      <td>1880</td>\n",
              "      <td>50,155,783</td>\n",
              "      <td>$5,790,678</td>\n",
              "      <td>11.54 cents</td>\n",
              "    </tr>\n",
              "  </tbody>\n",
              "</table>\n",
              "</div>"
            ],
            "text/plain": [
              "  Census Year Total Population Census Cost Average Cost Per Person\n",
              "0        1790        3,929,214     $44,377              1.13 cents\n",
              "1        1800        5,308,483     $66,109              1.24 cents\n",
              "2        1810        7,239,881    $178,445              2.46 cents\n",
              "3        1820        9,633,822    $208,526              2.16 cents\n",
              "4        1830       12,866,020    $378,545              2.94 cents\n",
              "5        1840       17,069,458    $833,371              4.88 cents\n",
              "6        1850       23,191,876  $1,423,351              6.14 cents\n",
              "7        1860       31,443,321  $1,969,377              6.26 cents\n",
              "8        1870       38,558,371  $3,421,198              8.87 cents\n",
              "9        1880       50,155,783  $5,790,678             11.54 cents"
            ]
          },
          "metadata": {},
          "execution_count": 39
        }
      ]
    },
    {
      "cell_type": "code",
      "metadata": {
        "colab": {
          "base_uri": "https://localhost:8080/"
        },
        "id": "UBikkvmtOnch",
        "outputId": "6bb2ccb6-3402-4a71-94bc-bd1cedc266ef"
      },
      "source": [
        "df.columns"
      ],
      "execution_count": 40,
      "outputs": [
        {
          "output_type": "execute_result",
          "data": {
            "text/plain": [
              "Index(['Census Year', 'Total Population', 'Census Cost',\n",
              "       'Average Cost Per Person'],\n",
              "      dtype='object')"
            ]
          },
          "metadata": {},
          "execution_count": 40
        }
      ]
    },
    {
      "cell_type": "code",
      "metadata": {
        "colab": {
          "base_uri": "https://localhost:8080/",
          "height": 357
        },
        "id": "XrT6BaeLOub7",
        "outputId": "a298579e-7aac-4087-b171-970571fdc8b7"
      },
      "source": [
        "df.tail(10)"
      ],
      "execution_count": 41,
      "outputs": [
        {
          "output_type": "execute_result",
          "data": {
            "text/html": [
              "<div>\n",
              "<style scoped>\n",
              "    .dataframe tbody tr th:only-of-type {\n",
              "        vertical-align: middle;\n",
              "    }\n",
              "\n",
              "    .dataframe tbody tr th {\n",
              "        vertical-align: top;\n",
              "    }\n",
              "\n",
              "    .dataframe thead th {\n",
              "        text-align: right;\n",
              "    }\n",
              "</style>\n",
              "<table border=\"1\" class=\"dataframe\">\n",
              "  <thead>\n",
              "    <tr style=\"text-align: right;\">\n",
              "      <th></th>\n",
              "      <th>Census Year</th>\n",
              "      <th>Total Population</th>\n",
              "      <th>Census Cost</th>\n",
              "      <th>Average Cost Per Person</th>\n",
              "    </tr>\n",
              "  </thead>\n",
              "  <tbody>\n",
              "    <tr>\n",
              "      <th>13</th>\n",
              "      <td>1920</td>\n",
              "      <td>105,710,620</td>\n",
              "      <td>$25,117,000</td>\n",
              "      <td>23.76 cents</td>\n",
              "    </tr>\n",
              "    <tr>\n",
              "      <th>14</th>\n",
              "      <td>1930</td>\n",
              "      <td>122,775,046</td>\n",
              "      <td>$40,156,000</td>\n",
              "      <td>32.71 cents</td>\n",
              "    </tr>\n",
              "    <tr>\n",
              "      <th>15</th>\n",
              "      <td>1940</td>\n",
              "      <td>131,669,275</td>\n",
              "      <td>$67,527,000</td>\n",
              "      <td>51.29 cents</td>\n",
              "    </tr>\n",
              "    <tr>\n",
              "      <th>16</th>\n",
              "      <td>1950</td>\n",
              "      <td>151,325,798</td>\n",
              "      <td>$91,462,000</td>\n",
              "      <td>60.44 cents</td>\n",
              "    </tr>\n",
              "    <tr>\n",
              "      <th>17</th>\n",
              "      <td>1960</td>\n",
              "      <td>179,323,175</td>\n",
              "      <td>$127,934,000</td>\n",
              "      <td>71.34 cents</td>\n",
              "    </tr>\n",
              "    <tr>\n",
              "      <th>18</th>\n",
              "      <td>1970</td>\n",
              "      <td>203,302,031</td>\n",
              "      <td>$247,653,000</td>\n",
              "      <td>$1.22</td>\n",
              "    </tr>\n",
              "    <tr>\n",
              "      <th>19</th>\n",
              "      <td>1980</td>\n",
              "      <td>226,542,199</td>\n",
              "      <td>$1,078,488,000</td>\n",
              "      <td>$4.76</td>\n",
              "    </tr>\n",
              "    <tr>\n",
              "      <th>20</th>\n",
              "      <td>1990</td>\n",
              "      <td>248,718,301</td>\n",
              "      <td>$2,492,830,000</td>\n",
              "      <td>$10.02</td>\n",
              "    </tr>\n",
              "    <tr>\n",
              "      <th>21</th>\n",
              "      <td>2000</td>\n",
              "      <td>281,421,906</td>\n",
              "      <td>$4.5 Billion</td>\n",
              "      <td>$15.99</td>\n",
              "    </tr>\n",
              "    <tr>\n",
              "      <th>22</th>\n",
              "      <td>2010*</td>\n",
              "      <td>308,745,538</td>\n",
              "      <td>$13 Billion</td>\n",
              "      <td>$42.11</td>\n",
              "    </tr>\n",
              "  </tbody>\n",
              "</table>\n",
              "</div>"
            ],
            "text/plain": [
              "   Census Year Total Population     Census Cost Average Cost Per Person\n",
              "13        1920      105,710,620     $25,117,000             23.76 cents\n",
              "14        1930      122,775,046     $40,156,000             32.71 cents\n",
              "15        1940      131,669,275     $67,527,000             51.29 cents\n",
              "16        1950      151,325,798     $91,462,000             60.44 cents\n",
              "17        1960      179,323,175    $127,934,000             71.34 cents\n",
              "18        1970      203,302,031    $247,653,000                   $1.22\n",
              "19        1980      226,542,199  $1,078,488,000                   $4.76\n",
              "20        1990      248,718,301  $2,492,830,000                  $10.02\n",
              "21        2000      281,421,906    $4.5 Billion                  $15.99\n",
              "22       2010*      308,745,538     $13 Billion                  $42.11"
            ]
          },
          "metadata": {},
          "execution_count": 41
        }
      ]
    },
    {
      "cell_type": "code",
      "metadata": {
        "colab": {
          "base_uri": "https://localhost:8080/",
          "height": 142
        },
        "id": "tbCxpF8pP87T",
        "outputId": "0e075e10-2fa8-4954-afdc-540276aa0dde"
      },
      "source": [
        "df.sample(3)"
      ],
      "execution_count": 42,
      "outputs": [
        {
          "output_type": "execute_result",
          "data": {
            "text/html": [
              "<div>\n",
              "<style scoped>\n",
              "    .dataframe tbody tr th:only-of-type {\n",
              "        vertical-align: middle;\n",
              "    }\n",
              "\n",
              "    .dataframe tbody tr th {\n",
              "        vertical-align: top;\n",
              "    }\n",
              "\n",
              "    .dataframe thead th {\n",
              "        text-align: right;\n",
              "    }\n",
              "</style>\n",
              "<table border=\"1\" class=\"dataframe\">\n",
              "  <thead>\n",
              "    <tr style=\"text-align: right;\">\n",
              "      <th></th>\n",
              "      <th>Census Year</th>\n",
              "      <th>Total Population</th>\n",
              "      <th>Census Cost</th>\n",
              "      <th>Average Cost Per Person</th>\n",
              "    </tr>\n",
              "  </thead>\n",
              "  <tbody>\n",
              "    <tr>\n",
              "      <th>17</th>\n",
              "      <td>1960</td>\n",
              "      <td>179,323,175</td>\n",
              "      <td>$127,934,000</td>\n",
              "      <td>71.34 cents</td>\n",
              "    </tr>\n",
              "    <tr>\n",
              "      <th>19</th>\n",
              "      <td>1980</td>\n",
              "      <td>226,542,199</td>\n",
              "      <td>$1,078,488,000</td>\n",
              "      <td>$4.76</td>\n",
              "    </tr>\n",
              "    <tr>\n",
              "      <th>8</th>\n",
              "      <td>1870</td>\n",
              "      <td>38,558,371</td>\n",
              "      <td>$3,421,198</td>\n",
              "      <td>8.87 cents</td>\n",
              "    </tr>\n",
              "  </tbody>\n",
              "</table>\n",
              "</div>"
            ],
            "text/plain": [
              "   Census Year Total Population     Census Cost Average Cost Per Person\n",
              "17        1960      179,323,175    $127,934,000             71.34 cents\n",
              "19        1980      226,542,199  $1,078,488,000                   $4.76\n",
              "8         1870       38,558,371      $3,421,198              8.87 cents"
            ]
          },
          "metadata": {},
          "execution_count": 42
        }
      ]
    },
    {
      "cell_type": "code",
      "metadata": {
        "colab": {
          "base_uri": "https://localhost:8080/"
        },
        "id": "qLfSI-LoQM-v",
        "outputId": "a3a05a6e-8b64-4a1b-b112-1e812dddebca"
      },
      "source": [
        "df.info()"
      ],
      "execution_count": 43,
      "outputs": [
        {
          "output_type": "stream",
          "name": "stdout",
          "text": [
            "<class 'pandas.core.frame.DataFrame'>\n",
            "RangeIndex: 23 entries, 0 to 22\n",
            "Data columns (total 4 columns):\n",
            " #   Column                   Non-Null Count  Dtype \n",
            "---  ------                   --------------  ----- \n",
            " 0   Census Year              23 non-null     object\n",
            " 1   Total Population         23 non-null     object\n",
            " 2   Census Cost              23 non-null     object\n",
            " 3   Average Cost Per Person  23 non-null     object\n",
            "dtypes: object(4)\n",
            "memory usage: 864.0+ bytes\n"
          ]
        }
      ]
    },
    {
      "cell_type": "code",
      "metadata": {
        "colab": {
          "base_uri": "https://localhost:8080/",
          "height": 758
        },
        "id": "XvAcESQbQds7",
        "outputId": "6646c31f-cf46-400b-fe65-0af9c302752d"
      },
      "source": [
        "df"
      ],
      "execution_count": 44,
      "outputs": [
        {
          "output_type": "execute_result",
          "data": {
            "text/html": [
              "<div>\n",
              "<style scoped>\n",
              "    .dataframe tbody tr th:only-of-type {\n",
              "        vertical-align: middle;\n",
              "    }\n",
              "\n",
              "    .dataframe tbody tr th {\n",
              "        vertical-align: top;\n",
              "    }\n",
              "\n",
              "    .dataframe thead th {\n",
              "        text-align: right;\n",
              "    }\n",
              "</style>\n",
              "<table border=\"1\" class=\"dataframe\">\n",
              "  <thead>\n",
              "    <tr style=\"text-align: right;\">\n",
              "      <th></th>\n",
              "      <th>Census Year</th>\n",
              "      <th>Total Population</th>\n",
              "      <th>Census Cost</th>\n",
              "      <th>Average Cost Per Person</th>\n",
              "    </tr>\n",
              "  </thead>\n",
              "  <tbody>\n",
              "    <tr>\n",
              "      <th>0</th>\n",
              "      <td>1790</td>\n",
              "      <td>3,929,214</td>\n",
              "      <td>$44,377</td>\n",
              "      <td>1.13 cents</td>\n",
              "    </tr>\n",
              "    <tr>\n",
              "      <th>1</th>\n",
              "      <td>1800</td>\n",
              "      <td>5,308,483</td>\n",
              "      <td>$66,109</td>\n",
              "      <td>1.24 cents</td>\n",
              "    </tr>\n",
              "    <tr>\n",
              "      <th>2</th>\n",
              "      <td>1810</td>\n",
              "      <td>7,239,881</td>\n",
              "      <td>$178,445</td>\n",
              "      <td>2.46 cents</td>\n",
              "    </tr>\n",
              "    <tr>\n",
              "      <th>3</th>\n",
              "      <td>1820</td>\n",
              "      <td>9,633,822</td>\n",
              "      <td>$208,526</td>\n",
              "      <td>2.16 cents</td>\n",
              "    </tr>\n",
              "    <tr>\n",
              "      <th>4</th>\n",
              "      <td>1830</td>\n",
              "      <td>12,866,020</td>\n",
              "      <td>$378,545</td>\n",
              "      <td>2.94 cents</td>\n",
              "    </tr>\n",
              "    <tr>\n",
              "      <th>5</th>\n",
              "      <td>1840</td>\n",
              "      <td>17,069,458</td>\n",
              "      <td>$833,371</td>\n",
              "      <td>4.88 cents</td>\n",
              "    </tr>\n",
              "    <tr>\n",
              "      <th>6</th>\n",
              "      <td>1850</td>\n",
              "      <td>23,191,876</td>\n",
              "      <td>$1,423,351</td>\n",
              "      <td>6.14 cents</td>\n",
              "    </tr>\n",
              "    <tr>\n",
              "      <th>7</th>\n",
              "      <td>1860</td>\n",
              "      <td>31,443,321</td>\n",
              "      <td>$1,969,377</td>\n",
              "      <td>6.26 cents</td>\n",
              "    </tr>\n",
              "    <tr>\n",
              "      <th>8</th>\n",
              "      <td>1870</td>\n",
              "      <td>38,558,371</td>\n",
              "      <td>$3,421,198</td>\n",
              "      <td>8.87 cents</td>\n",
              "    </tr>\n",
              "    <tr>\n",
              "      <th>9</th>\n",
              "      <td>1880</td>\n",
              "      <td>50,155,783</td>\n",
              "      <td>$5,790,678</td>\n",
              "      <td>11.54 cents</td>\n",
              "    </tr>\n",
              "    <tr>\n",
              "      <th>10</th>\n",
              "      <td>1890</td>\n",
              "      <td>62,979,766</td>\n",
              "      <td>$11,547,127</td>\n",
              "      <td>18.33 cents</td>\n",
              "    </tr>\n",
              "    <tr>\n",
              "      <th>11</th>\n",
              "      <td>1900</td>\n",
              "      <td>76,303,387</td>\n",
              "      <td>$11,854,000</td>\n",
              "      <td>15.54 cents</td>\n",
              "    </tr>\n",
              "    <tr>\n",
              "      <th>12</th>\n",
              "      <td>1910</td>\n",
              "      <td>91,972,266</td>\n",
              "      <td>$15,968,000</td>\n",
              "      <td>17.07 cents</td>\n",
              "    </tr>\n",
              "    <tr>\n",
              "      <th>13</th>\n",
              "      <td>1920</td>\n",
              "      <td>105,710,620</td>\n",
              "      <td>$25,117,000</td>\n",
              "      <td>23.76 cents</td>\n",
              "    </tr>\n",
              "    <tr>\n",
              "      <th>14</th>\n",
              "      <td>1930</td>\n",
              "      <td>122,775,046</td>\n",
              "      <td>$40,156,000</td>\n",
              "      <td>32.71 cents</td>\n",
              "    </tr>\n",
              "    <tr>\n",
              "      <th>15</th>\n",
              "      <td>1940</td>\n",
              "      <td>131,669,275</td>\n",
              "      <td>$67,527,000</td>\n",
              "      <td>51.29 cents</td>\n",
              "    </tr>\n",
              "    <tr>\n",
              "      <th>16</th>\n",
              "      <td>1950</td>\n",
              "      <td>151,325,798</td>\n",
              "      <td>$91,462,000</td>\n",
              "      <td>60.44 cents</td>\n",
              "    </tr>\n",
              "    <tr>\n",
              "      <th>17</th>\n",
              "      <td>1960</td>\n",
              "      <td>179,323,175</td>\n",
              "      <td>$127,934,000</td>\n",
              "      <td>71.34 cents</td>\n",
              "    </tr>\n",
              "    <tr>\n",
              "      <th>18</th>\n",
              "      <td>1970</td>\n",
              "      <td>203,302,031</td>\n",
              "      <td>$247,653,000</td>\n",
              "      <td>$1.22</td>\n",
              "    </tr>\n",
              "    <tr>\n",
              "      <th>19</th>\n",
              "      <td>1980</td>\n",
              "      <td>226,542,199</td>\n",
              "      <td>$1,078,488,000</td>\n",
              "      <td>$4.76</td>\n",
              "    </tr>\n",
              "    <tr>\n",
              "      <th>20</th>\n",
              "      <td>1990</td>\n",
              "      <td>248,718,301</td>\n",
              "      <td>$2,492,830,000</td>\n",
              "      <td>$10.02</td>\n",
              "    </tr>\n",
              "    <tr>\n",
              "      <th>21</th>\n",
              "      <td>2000</td>\n",
              "      <td>281,421,906</td>\n",
              "      <td>$4.5 Billion</td>\n",
              "      <td>$15.99</td>\n",
              "    </tr>\n",
              "    <tr>\n",
              "      <th>22</th>\n",
              "      <td>2010*</td>\n",
              "      <td>308,745,538</td>\n",
              "      <td>$13 Billion</td>\n",
              "      <td>$42.11</td>\n",
              "    </tr>\n",
              "  </tbody>\n",
              "</table>\n",
              "</div>"
            ],
            "text/plain": [
              "   Census Year Total Population     Census Cost Average Cost Per Person\n",
              "0         1790        3,929,214         $44,377              1.13 cents\n",
              "1         1800        5,308,483         $66,109              1.24 cents\n",
              "2         1810        7,239,881        $178,445              2.46 cents\n",
              "3         1820        9,633,822        $208,526              2.16 cents\n",
              "4         1830       12,866,020        $378,545              2.94 cents\n",
              "5         1840       17,069,458        $833,371              4.88 cents\n",
              "6         1850       23,191,876      $1,423,351              6.14 cents\n",
              "7         1860       31,443,321      $1,969,377              6.26 cents\n",
              "8         1870       38,558,371      $3,421,198              8.87 cents\n",
              "9         1880       50,155,783      $5,790,678             11.54 cents\n",
              "10        1890       62,979,766     $11,547,127             18.33 cents\n",
              "11        1900       76,303,387     $11,854,000             15.54 cents\n",
              "12        1910       91,972,266     $15,968,000             17.07 cents\n",
              "13        1920      105,710,620     $25,117,000             23.76 cents\n",
              "14        1930      122,775,046     $40,156,000             32.71 cents\n",
              "15        1940      131,669,275     $67,527,000             51.29 cents\n",
              "16        1950      151,325,798     $91,462,000             60.44 cents\n",
              "17        1960      179,323,175    $127,934,000             71.34 cents\n",
              "18        1970      203,302,031    $247,653,000                   $1.22\n",
              "19        1980      226,542,199  $1,078,488,000                   $4.76\n",
              "20        1990      248,718,301  $2,492,830,000                  $10.02\n",
              "21        2000      281,421,906    $4.5 Billion                  $15.99\n",
              "22       2010*      308,745,538     $13 Billion                  $42.11"
            ]
          },
          "metadata": {},
          "execution_count": 44
        }
      ]
    },
    {
      "cell_type": "code",
      "metadata": {
        "colab": {
          "base_uri": "https://localhost:8080/",
          "height": 172
        },
        "id": "etzU0TooQ2zy",
        "outputId": "59b808b9-03a2-4560-faa7-0343723d1856"
      },
      "source": [
        "df.describe()"
      ],
      "execution_count": 45,
      "outputs": [
        {
          "output_type": "execute_result",
          "data": {
            "text/html": [
              "<div>\n",
              "<style scoped>\n",
              "    .dataframe tbody tr th:only-of-type {\n",
              "        vertical-align: middle;\n",
              "    }\n",
              "\n",
              "    .dataframe tbody tr th {\n",
              "        vertical-align: top;\n",
              "    }\n",
              "\n",
              "    .dataframe thead th {\n",
              "        text-align: right;\n",
              "    }\n",
              "</style>\n",
              "<table border=\"1\" class=\"dataframe\">\n",
              "  <thead>\n",
              "    <tr style=\"text-align: right;\">\n",
              "      <th></th>\n",
              "      <th>Census Year</th>\n",
              "      <th>Total Population</th>\n",
              "      <th>Census Cost</th>\n",
              "      <th>Average Cost Per Person</th>\n",
              "    </tr>\n",
              "  </thead>\n",
              "  <tbody>\n",
              "    <tr>\n",
              "      <th>count</th>\n",
              "      <td>23</td>\n",
              "      <td>23</td>\n",
              "      <td>23</td>\n",
              "      <td>23</td>\n",
              "    </tr>\n",
              "    <tr>\n",
              "      <th>unique</th>\n",
              "      <td>23</td>\n",
              "      <td>23</td>\n",
              "      <td>23</td>\n",
              "      <td>23</td>\n",
              "    </tr>\n",
              "    <tr>\n",
              "      <th>top</th>\n",
              "      <td>1910</td>\n",
              "      <td>131,669,275</td>\n",
              "      <td>$11,547,127</td>\n",
              "      <td>18.33 cents</td>\n",
              "    </tr>\n",
              "    <tr>\n",
              "      <th>freq</th>\n",
              "      <td>1</td>\n",
              "      <td>1</td>\n",
              "      <td>1</td>\n",
              "      <td>1</td>\n",
              "    </tr>\n",
              "  </tbody>\n",
              "</table>\n",
              "</div>"
            ],
            "text/plain": [
              "       Census Year Total Population  Census Cost Average Cost Per Person\n",
              "count           23               23           23                      23\n",
              "unique          23               23           23                      23\n",
              "top           1910      131,669,275  $11,547,127             18.33 cents\n",
              "freq             1                1            1                       1"
            ]
          },
          "metadata": {},
          "execution_count": 45
        }
      ]
    },
    {
      "cell_type": "code",
      "metadata": {
        "colab": {
          "base_uri": "https://localhost:8080/"
        },
        "id": "tOuI3bIfTJfE",
        "outputId": "d9445549-168c-4ad2-fe0c-c7df4d82c3d8"
      },
      "source": [
        "# There is difference between series and data frame.\n",
        "# df[\"Total Population\"] return a series which has a totlist()function\n",
        "# df[\"Total Population\"] return a data frame which has no totlist() function\n",
        "\n",
        "pop_list= df[\"Total Population\"]. tolist()\n",
        "pop_list"
      ],
      "execution_count": 47,
      "outputs": [
        {
          "output_type": "execute_result",
          "data": {
            "text/plain": [
              "['3,929,214',\n",
              " '5,308,483',\n",
              " '7,239,881',\n",
              " '9,633,822',\n",
              " '12,866,020',\n",
              " '17,069,458',\n",
              " '23,191,876',\n",
              " '31,443,321',\n",
              " '38,558,371',\n",
              " '50,155,783',\n",
              " '62,979,766',\n",
              " '76,303,387',\n",
              " '91,972,266',\n",
              " '105,710,620',\n",
              " '122,775,046',\n",
              " '131,669,275',\n",
              " '151,325,798',\n",
              " '179,323,175',\n",
              " '203,302,031',\n",
              " '226,542,199',\n",
              " '248,718,301',\n",
              " '281,421,906',\n",
              " '308,745,538']"
            ]
          },
          "metadata": {},
          "execution_count": 47
        }
      ]
    },
    {
      "cell_type": "code",
      "metadata": {
        "colab": {
          "base_uri": "https://localhost:8080/"
        },
        "id": "KBKDAoexUKYW",
        "outputId": "900f7752-4939-4866-fbc4-040bcf136460"
      },
      "source": [
        "pop_list2 = [int(pop.replace(\",\",\"\")) for pop in pop_list]\n",
        "print(pop_list2)"
      ],
      "execution_count": 48,
      "outputs": [
        {
          "output_type": "stream",
          "name": "stdout",
          "text": [
            "[3929214, 5308483, 7239881, 9633822, 12866020, 17069458, 23191876, 31443321, 38558371, 50155783, 62979766, 76303387, 91972266, 105710620, 122775046, 131669275, 151325798, 179323175, 203302031, 226542199, 248718301, 281421906, 308745538]\n"
          ]
        }
      ]
    },
    {
      "cell_type": "code",
      "metadata": {
        "id": "q9JctlGKVnc9"
      },
      "source": [
        "# Function to cover a str of numbers seperated by comas into integer\n",
        "\n",
        "def clense_pop(a_string):\n",
        "    return int(a_string.replace(\",\",\"\"))\n"
      ],
      "execution_count": 56,
      "outputs": []
    },
    {
      "cell_type": "code",
      "metadata": {
        "colab": {
          "base_uri": "https://localhost:8080/"
        },
        "id": "R4gzzraMWBVP",
        "outputId": "aa54c9f1-fad0-4f9e-f5cb-0f2ea3c7645b"
      },
      "source": [
        "x = clense_pop(\"123,459\")\n",
        "\n",
        "print(x)"
      ],
      "execution_count": 57,
      "outputs": [
        {
          "output_type": "stream",
          "name": "stdout",
          "text": [
            "123459\n"
          ]
        }
      ]
    },
    {
      "cell_type": "code",
      "metadata": {
        "id": "Gr18kCTLWkT4"
      },
      "source": [
        ""
      ],
      "execution_count": null,
      "outputs": []
    }
  ]
}