{
  "nbformat": 4,
  "nbformat_minor": 0,
  "metadata": {
    "colab": {
      "name": "assignment_04_HW_partA.ipynb",
      "provenance": [],
      "collapsed_sections": [],
      "authorship_tag": "ABX9TyOCNu1NIQIlAQumMfcdOjGj",
      "include_colab_link": true
    },
    "kernelspec": {
      "name": "python3",
      "display_name": "Python 3"
    },
    "language_info": {
      "name": "python"
    }
  },
  "cells": [
    {
      "cell_type": "markdown",
      "metadata": {
        "id": "view-in-github",
        "colab_type": "text"
      },
      "source": [
        "<a href=\"https://colab.research.google.com/github/px70339sai/Data690_Sai/blob/main/assignment_04/assignment_04_HW_partA.ipynb\" target=\"_parent\"><img src=\"https://colab.research.google.com/assets/colab-badge.svg\" alt=\"Open In Colab\"/></a>"
      ]
    },
    {
      "cell_type": "code",
      "metadata": {
        "colab": {
          "base_uri": "https://localhost:8080/"
        },
        "id": "s28OTQgq1dk7",
        "outputId": "30f9a183-dc3a-40c6-b4fa-35be87c23ce8"
      },
      "source": [
        "with open(\"census_costs.txt\",\"r\") as f:\n",
        "    lines= f.readlines()\n",
        "\n",
        "print(lines)"
      ],
      "execution_count": 102,
      "outputs": [
        {
          "output_type": "stream",
          "name": "stdout",
          "text": [
            "['Census Year\\tTotal Population\\tCensus Cost\\tAverage Cost Per Person\\n', '1790\\t3,929,214\\t$44,377\\t1.13 cents\\n', '1800\\t5,308,483\\t$66,109\\t1.24 cents\\n', '1810\\t7,239,881\\t$178,445\\t2.46 cents\\n', '1820\\t9,633,822\\t$208,526\\t2.16 cents\\n', '1830\\t12,866,020\\t$378,545\\t2.94 cents\\n', '1840\\t17,069,458\\t$833,371\\t4.88 cents\\n', '1850\\t23,191,876\\t$1,423,351\\t6.14 cents\\n', '1860\\t31,443,321\\t$1,969,377\\t6.26 cents\\n', '1870\\t38,558,371\\t$3,421,198\\t8.87 cents\\n', '1880\\t50,155,783\\t$5,790,678\\t11.54 cents\\n', '1890\\t62,979,766\\t$11,547,127\\t18.33 cents\\n', '1900\\t76,303,387\\t$11,854,000\\t15.54 cents\\n', '1910\\t91,972,266\\t$15,968,000\\t17.07 cents\\n', '1920\\t105,710,620\\t$25,117,000\\t23.76 cents\\n', '1930\\t122,775,046\\t$40,156,000\\t32.71 cents\\n', '1940\\t131,669,275\\t$67,527,000\\t51.29 cents\\n', '1950\\t151,325,798\\t$91,462,000\\t60.44 cents\\n', '1960\\t179,323,175\\t$127,934,000\\t71.34 cents\\n', '1970\\t203,302,031\\t$247,653,000\\t$1.22\\n', '1980\\t226,542,199\\t$1,078,488,000\\t$4.76\\n', '1990\\t248,718,301\\t$2,492,830,000\\t$10.02\\n', '2000\\t281,421,906\\t$4.5 Billion\\t$15.99\\n', '2010*\\t308,745,538\\t$13 Billion\\t$42.11']\n"
          ]
        }
      ]
    },
    {
      "cell_type": "code",
      "metadata": {
        "id": "CMpnzVrpCDyd",
        "colab": {
          "base_uri": "https://localhost:8080/"
        },
        "outputId": "92c8f558-2e72-4b04-a148-62d18877204c"
      },
      "source": [
        "top2_list=[]\n",
        "for i in range(1,3):\n",
        "  # print(lines[i])\n",
        "  top2_list.append(lines[i])\n",
        "\n",
        "print(top2_list)"
      ],
      "execution_count": 119,
      "outputs": [
        {
          "output_type": "stream",
          "name": "stdout",
          "text": [
            "['1790\\t3,929,214\\t$44,377\\t1.13 cents\\n', '1800\\t5,308,483\\t$66,109\\t1.24 cents\\n']\n"
          ]
        }
      ]
    },
    {
      "cell_type": "code",
      "metadata": {
        "colab": {
          "base_uri": "https://localhost:8080/"
        },
        "id": "5qDHGhb8DZju",
        "outputId": "41bf69db-3007-43e2-b202-19a05db7e91c"
      },
      "source": [
        "data_list=[]\n",
        "for i in range(3,len(lines)):\n",
        "    # print(lines[i])\n",
        "    data_list.append(lines[i])\n",
        "\n",
        "print(data_list)\n",
        "    "
      ],
      "execution_count": 104,
      "outputs": [
        {
          "output_type": "stream",
          "name": "stdout",
          "text": [
            "['1810\\t7,239,881\\t$178,445\\t2.46 cents\\n', '1820\\t9,633,822\\t$208,526\\t2.16 cents\\n', '1830\\t12,866,020\\t$378,545\\t2.94 cents\\n', '1840\\t17,069,458\\t$833,371\\t4.88 cents\\n', '1850\\t23,191,876\\t$1,423,351\\t6.14 cents\\n', '1860\\t31,443,321\\t$1,969,377\\t6.26 cents\\n', '1870\\t38,558,371\\t$3,421,198\\t8.87 cents\\n', '1880\\t50,155,783\\t$5,790,678\\t11.54 cents\\n', '1890\\t62,979,766\\t$11,547,127\\t18.33 cents\\n', '1900\\t76,303,387\\t$11,854,000\\t15.54 cents\\n', '1910\\t91,972,266\\t$15,968,000\\t17.07 cents\\n', '1920\\t105,710,620\\t$25,117,000\\t23.76 cents\\n', '1930\\t122,775,046\\t$40,156,000\\t32.71 cents\\n', '1940\\t131,669,275\\t$67,527,000\\t51.29 cents\\n', '1950\\t151,325,798\\t$91,462,000\\t60.44 cents\\n', '1960\\t179,323,175\\t$127,934,000\\t71.34 cents\\n', '1970\\t203,302,031\\t$247,653,000\\t$1.22\\n', '1980\\t226,542,199\\t$1,078,488,000\\t$4.76\\n', '1990\\t248,718,301\\t$2,492,830,000\\t$10.02\\n', '2000\\t281,421,906\\t$4.5 Billion\\t$15.99\\n', '2010*\\t308,745,538\\t$13 Billion\\t$42.11']\n"
          ]
        }
      ]
    },
    {
      "cell_type": "code",
      "metadata": {
        "colab": {
          "base_uri": "https://localhost:8080/"
        },
        "id": "XLUQTP7rH2AT",
        "outputId": "86f1cb32-f5ce-49f7-e363-0e83f3da5365"
      },
      "source": [
        "column_names = [line.split(\",\") for line in lines[:1]]\n",
        "column_names = column_names[0]\n",
        "print(column_names)"
      ],
      "execution_count": 130,
      "outputs": [
        {
          "output_type": "stream",
          "name": "stdout",
          "text": [
            "['Census Year\\tTotal Population\\tCensus Cost\\tAverage Cost Per Person\\n']\n"
          ]
        }
      ]
    },
    {
      "cell_type": "code",
      "metadata": {
        "colab": {
          "base_uri": "https://localhost:8080/"
        },
        "id": "MGM89VLEIbKy",
        "outputId": "28571455-f58c-4f27-b5de-c5a8a7fd3733"
      },
      "source": [
        "year_list = [line.split(\"\\t\")[0] for line in data_list]\n",
        "year_list[-1] = str(year_list[-1]).replace('*','')\n",
        "print(year_list)"
      ],
      "execution_count": 106,
      "outputs": [
        {
          "output_type": "stream",
          "name": "stdout",
          "text": [
            "['1810', '1820', '1830', '1840', '1850', '1860', '1870', '1880', '1890', '1900', '1910', '1920', '1930', '1940', '1950', '1960', '1970', '1980', '1990', '2000', '2010']\n"
          ]
        }
      ]
    },
    {
      "cell_type": "code",
      "metadata": {
        "colab": {
          "base_uri": "https://localhost:8080/"
        },
        "id": "aD_Qvj9NIm5d",
        "outputId": "f3e4af4b-6d47-4cde-8ae7-eed8a54547e2"
      },
      "source": [
        "pop_list = [line.split(\"\\t\")[1] for line in data_list]\n",
        "\n",
        "for idx,x in enumerate(pop_list):\n",
        "  pop_list[idx] = x.replace(\",\",\"\")\n",
        "print(pop_list)"
      ],
      "execution_count": 107,
      "outputs": [
        {
          "output_type": "stream",
          "name": "stdout",
          "text": [
            "['7239881', '9633822', '12866020', '17069458', '23191876', '31443321', '38558371', '50155783', '62979766', '76303387', '91972266', '105710620', '122775046', '131669275', '151325798', '179323175', '203302031', '226542199', '248718301', '281421906', '308745538']\n"
          ]
        }
      ]
    },
    {
      "cell_type": "code",
      "metadata": {
        "id": "80E9MQg3L_f9",
        "colab": {
          "base_uri": "https://localhost:8080/"
        },
        "outputId": "505962ba-575e-4273-8920-6c2b92ed87b0"
      },
      "source": [
        "cost_list = [line.split('\\t')[2] for line in data_list]\n",
        "\n",
        "for idx, x in enumerate(cost_list):\n",
        "  x = x.replace(\",\",\"\").replace(\"$\",\"\")\n",
        "  if 'Billion' in x:\n",
        "    x = float(str(x).replace(\"Billion\",\"\"))\n",
        "    x = int(float(x)  * 1000000000)\n",
        "  cost_list[idx] = str(x)\n",
        "print(cost_list)"
      ],
      "execution_count": 108,
      "outputs": [
        {
          "output_type": "stream",
          "name": "stdout",
          "text": [
            "['178445', '208526', '378545', '833371', '1423351', '1969377', '3421198', '5790678', '11547127', '11854000', '15968000', '25117000', '40156000', '67527000', '91462000', '127934000', '247653000', '1078488000', '2492830000', '4500000000', '13000000000']\n"
          ]
        }
      ]
    },
    {
      "cell_type": "code",
      "metadata": {
        "colab": {
          "base_uri": "https://localhost:8080/"
        },
        "id": "NdCTGALgTeNG",
        "outputId": "0d005447-b27c-42fe-8ec9-ba38068c1c6e"
      },
      "source": [
        "avg_list = [line.split('\\t')[3] for line in data_list]\n",
        "\n",
        "for idx, x in enumerate(avg_list):\n",
        "  x = x.replace(\"$\", \"\").replace('\\n','')\n",
        "  if 'cents' in x:\n",
        "    x = float(str(x).replace(\"cents\", \"\"))\n",
        "    x = round(float(x / 100), 4)\n",
        "  avg_list[idx] = str(x)\n",
        "print(avg_list)"
      ],
      "execution_count": 109,
      "outputs": [
        {
          "output_type": "stream",
          "name": "stdout",
          "text": [
            "['0.0246', '0.0216', '0.0294', '0.0488', '0.0614', '0.0626', '0.0887', '0.1154', '0.1833', '0.1554', '0.1707', '0.2376', '0.3271', '0.5129', '0.6044', '0.7134', '1.22', '4.76', '10.02', '15.99', '42.11']\n"
          ]
        }
      ]
    },
    {
      "cell_type": "code",
      "metadata": {
        "colab": {
          "base_uri": "https://localhost:8080/"
        },
        "id": "SJmCKUgMZ7JZ",
        "outputId": "acadc8b9-c1b8-479c-be8f-1c6b1124afe1"
      },
      "source": [
        "final_list = []\n",
        "final_list.append(column_names)\n",
        "# final_list.append(top2_list)\n",
        "\n",
        "for i in top2_list:\n",
        "  temp = [i]\n",
        "  final_list.append(temp)\n",
        "\n",
        "for i in range(len(year_list)):\n",
        "  data = [year_list[i]+\" \"+pop_list[i]+\" \"+cost_list[i]+\"  \"+avg_list[i]]\n",
        "  final_list.append(data)\n",
        "\n",
        "\n",
        "\n",
        "print(final_list)"
      ],
      "execution_count": 134,
      "outputs": [
        {
          "output_type": "stream",
          "name": "stdout",
          "text": [
            "[['Census Year\\tTotal Population\\tCensus Cost\\tAverage Cost Per Person\\n'], ['1790\\t3,929,214\\t$44,377\\t1.13 cents\\n'], ['1800\\t5,308,483\\t$66,109\\t1.24 cents\\n'], ['1810 7239881 178445  0.0246'], ['1820 9633822 208526  0.0216'], ['1830 12866020 378545  0.0294'], ['1840 17069458 833371  0.0488'], ['1850 23191876 1423351  0.0614'], ['1860 31443321 1969377  0.0626'], ['1870 38558371 3421198  0.0887'], ['1880 50155783 5790678  0.1154'], ['1890 62979766 11547127  0.1833'], ['1900 76303387 11854000  0.1554'], ['1910 91972266 15968000  0.1707'], ['1920 105710620 25117000  0.2376'], ['1930 122775046 40156000  0.3271'], ['1940 131669275 67527000  0.5129'], ['1950 151325798 91462000  0.6044'], ['1960 179323175 127934000  0.7134'], ['1970 203302031 247653000  1.22'], ['1980 226542199 1078488000  4.76'], ['1990 248718301 2492830000  10.02'], ['2000 281421906 4500000000  15.99'], ['2010 308745538 13000000000  42.11']]\n"
          ]
        }
      ]
    },
    {
      "cell_type": "code",
      "metadata": {
        "id": "YuskbJYHhMXm"
      },
      "source": [
        "import csv\n",
        "\n",
        "with open('census_costs.csv', 'w') as f:\n",
        "      \n",
        "    # using csv.writer method from CSV package\n",
        "    write = csv.writer(f)\n",
        "\n",
        "    write.writerows(final_list)"
      ],
      "execution_count": 136,
      "outputs": []
    }
  ]
}