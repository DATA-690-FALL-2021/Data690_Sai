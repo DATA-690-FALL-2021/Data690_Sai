{
  "nbformat": 4,
  "nbformat_minor": 0,
  "metadata": {
    "colab": {
      "name": "assignment_03_HW.ipynb",
      "provenance": [],
      "authorship_tag": "ABX9TyODPL9RufO7H3/j8l7HclcS",
      "include_colab_link": true
    },
    "kernelspec": {
      "name": "python3",
      "display_name": "Python 3"
    },
    "language_info": {
      "name": "python"
    }
  },
  "cells": [
    {
      "cell_type": "markdown",
      "metadata": {
        "id": "view-in-github",
        "colab_type": "text"
      },
      "source": [
        "<a href=\"https://colab.research.google.com/github/px70339sai/Data690_Sai/blob/main/assignment_03/assignment_03_HW.ipynb\" target=\"_parent\"><img src=\"https://colab.research.google.com/assets/colab-badge.svg\" alt=\"Open In Colab\"/></a>"
      ]
    },
    {
      "cell_type": "code",
      "metadata": {
        "colab": {
          "base_uri": "https://localhost:8080/"
        },
        "id": "e_2Mw6bt18CB",
        "outputId": "7e131586-8586-4b5f-d1d7-b38a61e30143"
      },
      "source": [
        "import random\n",
        "for i in range(0,10):\n",
        "  for j in range(0,10):\n",
        "    print(random.randint(0,9), end=' ')\n",
        "  print('\\n')\n",
        "\n"
      ],
      "execution_count": 19,
      "outputs": [
        {
          "output_type": "stream",
          "name": "stdout",
          "text": [
            "6 3 6 2 1 3 9 2 3 8 \n",
            "\n",
            "2 5 2 0 1 7 0 7 9 1 \n",
            "\n",
            "7 8 2 9 3 0 8 5 0 2 \n",
            "\n",
            "3 9 9 7 6 6 0 5 9 6 \n",
            "\n",
            "4 0 5 9 0 6 7 6 6 4 \n",
            "\n",
            "5 9 6 4 8 4 4 5 9 4 \n",
            "\n",
            "3 3 1 3 1 3 4 7 0 1 \n",
            "\n",
            "9 0 6 4 9 8 8 8 9 7 \n",
            "\n",
            "8 4 2 1 5 3 1 6 3 0 \n",
            "\n",
            "5 8 5 5 8 2 4 7 1 1 \n",
            "\n"
          ]
        }
      ]
    },
    {
      "cell_type": "code",
      "metadata": {
        "colab": {
          "base_uri": "https://localhost:8080/"
        },
        "id": "NEPsw3LI3sCD",
        "outputId": "fd92aeb0-1424-4d62-8991-a50c32818397"
      },
      "source": [
        "for i in range(0,10):\n",
        "  for j in range(0,10):\n",
        "    rand_int = random.randint(0,9)\n",
        "    if rand_int % 2==0:\n",
        "      print(rand_int, end=' ')\n",
        "    else:\n",
        "      print('@', end=' ')\n",
        "  print('\\n')"
      ],
      "execution_count": 23,
      "outputs": [
        {
          "output_type": "stream",
          "name": "stdout",
          "text": [
            "@ @ 8 8 @ @ 4 @ @ @ \n",
            "\n",
            "8 @ 4 8 @ @ @ @ @ 0 \n",
            "\n",
            "4 @ 6 2 6 @ 6 8 2 @ \n",
            "\n",
            "2 @ 4 0 @ 0 0 4 6 0 \n",
            "\n",
            "@ @ @ 2 @ @ @ 4 8 @ \n",
            "\n",
            "8 8 @ @ 4 @ @ 6 0 4 \n",
            "\n",
            "4 0 @ 4 @ 2 @ 6 @ 6 \n",
            "\n",
            "6 @ 6 6 8 4 4 @ @ 0 \n",
            "\n",
            "4 6 2 4 8 @ @ 0 2 @ \n",
            "\n",
            "@ 4 8 0 @ 8 @ @ @ @ \n",
            "\n"
          ]
        }
      ]
    },
    {
      "cell_type": "code",
      "metadata": {
        "colab": {
          "base_uri": "https://localhost:8080/"
        },
        "id": "8aZzPQZAAh2K",
        "outputId": "197b3dac-21af-4709-83ad-d3b5fac62a23"
      },
      "source": [
        "for i in range(0,10):\n",
        "  sum = 0\n",
        "  for j in range(0,10):\n",
        "    rand_int = random.randint(0,9)\n",
        "    sum = sum + rand_int\n",
        "    print(rand_int, end=' ')\n",
        "  print('* ' + str(sum) + '\\n')\n"
      ],
      "execution_count": 27,
      "outputs": [
        {
          "output_type": "stream",
          "name": "stdout",
          "text": [
            "5 7 6 9 6 0 9 6 5 5 * 58\n",
            "\n",
            "1 3 8 2 1 9 9 4 2 0 * 39\n",
            "\n",
            "8 4 1 6 8 7 9 2 2 8 * 55\n",
            "\n",
            "8 8 5 6 9 9 8 8 0 0 * 61\n",
            "\n",
            "9 4 7 4 9 4 5 4 9 7 * 62\n",
            "\n",
            "8 2 7 7 3 3 1 1 8 2 * 42\n",
            "\n",
            "7 3 7 2 4 7 0 3 5 2 * 40\n",
            "\n",
            "8 6 9 2 8 0 1 6 1 7 * 48\n",
            "\n",
            "7 7 1 8 3 2 9 3 9 4 * 53\n",
            "\n",
            "7 6 4 8 5 1 9 6 8 3 * 57\n",
            "\n"
          ]
        }
      ]
    },
    {
      "cell_type": "code",
      "metadata": {
        "colab": {
          "base_uri": "https://localhost:8080/"
        },
        "id": "C24fUebXCQyf",
        "outputId": "8d80b9a9-60f1-454a-e86a-4f121a9a3b7b"
      },
      "source": [
        "print('***********************')\n",
        "for i in range(0,10):\n",
        "  print('*', end=' ')\n",
        "  for j in range(0,10):\n",
        "    print(random.randint(0,9), end=' ')\n",
        "  print('*' + '\\n')\n",
        "print('***********************')\n",
        "\n"
      ],
      "execution_count": 38,
      "outputs": [
        {
          "output_type": "stream",
          "name": "stdout",
          "text": [
            "***********************\n",
            "* 4 6 9 4 1 8 8 1 8 8 *\n",
            "\n",
            "* 2 7 7 7 0 6 5 6 6 9 *\n",
            "\n",
            "* 6 6 1 2 2 2 0 1 4 6 *\n",
            "\n",
            "* 1 7 7 8 0 5 2 7 3 2 *\n",
            "\n",
            "* 6 3 1 6 9 2 6 5 6 7 *\n",
            "\n",
            "* 0 1 0 0 1 1 3 3 0 8 *\n",
            "\n",
            "* 2 3 7 2 8 0 6 9 9 1 *\n",
            "\n",
            "* 9 1 8 2 7 4 7 2 0 1 *\n",
            "\n",
            "* 2 6 0 2 5 8 8 4 2 8 *\n",
            "\n",
            "* 9 4 2 2 8 2 5 9 4 1 *\n",
            "\n",
            "***********************\n"
          ]
        }
      ]
    },
    {
      "cell_type": "code",
      "metadata": {
        "colab": {
          "base_uri": "https://localhost:8080/"
        },
        "id": "Jfng794cF467",
        "outputId": "68296d36-cc57-412a-ac0f-f166ef5a3e26"
      },
      "source": [
        "def calculate_column_sum(data):\n",
        "  column_sum_list = []\n",
        "  col_sum = 0\n",
        "  for x in range(0,10):\n",
        "    for i in data:\n",
        "      col_sum = col_sum + i[x]\n",
        "    column_sum_list.append(col_sum)\n",
        "    col_sum = 0\n",
        "  return column_sum_list\n",
        "\n",
        "result = []\n",
        "for i in range(0,10):\n",
        "  row_sum = 0\n",
        "  temp = []\n",
        "  for j in range(0,10):\n",
        "    rand_int = random.randint(0,9)\n",
        "    temp.append(rand_int)\n",
        "    row_sum = row_sum + rand_int\n",
        "    print(rand_int, end='\\t')\n",
        "  result.append(list(temp))\n",
        "  print('*\\t' + str(sum) + '\\n')\n",
        "\n",
        "column_sum_list = calculate_column_sum(result)\n",
        "for i in range(0,10):\n",
        "  print('*', end='\\t')\n",
        "print('\\n')\n",
        "for i in column_sum_list:\n",
        "  print(i, end='\\t')\n",
        "\n"
      ],
      "execution_count": 63,
      "outputs": [
        {
          "output_type": "stream",
          "name": "stdout",
          "text": [
            "8\t2\t5\t3\t7\t6\t3\t6\t0\t0\t*\t57\n",
            "\n",
            "4\t5\t4\t8\t7\t5\t7\t5\t2\t1\t*\t57\n",
            "\n",
            "1\t4\t0\t5\t5\t5\t6\t3\t4\t4\t*\t57\n",
            "\n",
            "2\t7\t3\t8\t8\t1\t3\t1\t5\t3\t*\t57\n",
            "\n",
            "3\t8\t2\t3\t3\t2\t5\t2\t6\t4\t*\t57\n",
            "\n",
            "6\t0\t7\t8\t1\t7\t9\t5\t5\t4\t*\t57\n",
            "\n",
            "3\t3\t9\t9\t8\t5\t8\t6\t5\t9\t*\t57\n",
            "\n",
            "6\t0\t9\t4\t9\t1\t9\t3\t1\t4\t*\t57\n",
            "\n",
            "8\t1\t8\t1\t9\t7\t5\t5\t8\t2\t*\t57\n",
            "\n",
            "0\t3\t5\t6\t4\t4\t8\t4\t9\t2\t*\t57\n",
            "\n",
            "*\t*\t*\t*\t*\t*\t*\t*\t*\t*\t\n",
            "\n",
            "41\t33\t52\t55\t61\t43\t63\t40\t45\t33\t"
          ]
        }
      ]
    },
    {
      "cell_type": "code",
      "metadata": {
        "id": "HAIMPzzEIJtK"
      },
      "source": [
        ""
      ],
      "execution_count": 63,
      "outputs": []
    }
  ]
}