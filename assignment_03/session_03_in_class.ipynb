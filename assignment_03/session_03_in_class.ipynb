{
  "nbformat": 4,
  "nbformat_minor": 0,
  "metadata": {
    "colab": {
      "name": "session_03_in_class.ipynb",
      "provenance": [],
      "authorship_tag": "ABX9TyOd+vPPxm4Nmhv8phGc2Eza",
      "include_colab_link": true
    },
    "kernelspec": {
      "name": "python3",
      "display_name": "Python 3"
    },
    "language_info": {
      "name": "python"
    }
  },
  "cells": [
    {
      "cell_type": "markdown",
      "metadata": {
        "id": "view-in-github",
        "colab_type": "text"
      },
      "source": [
        "<a href=\"https://colab.research.google.com/github/px70339sai/Data690_Sai/blob/main/assignment_03/session_03_in_class.ipynb\" target=\"_parent\"><img src=\"https://colab.research.google.com/assets/colab-badge.svg\" alt=\"Open In Colab\"/></a>"
      ]
    },
    {
      "cell_type": "markdown",
      "metadata": {
        "id": "3wRx14Kk8dIj"
      },
      "source": [
        "# Session 3 In Class Practice\n",
        "- Jay Wang\n",
        "- September 16\n"
      ]
    },
    {
      "cell_type": "markdown",
      "metadata": {
        "id": "1SHEZYde85Bx"
      },
      "source": [
        "## 1. List Comprehension"
      ]
    },
    {
      "cell_type": "code",
      "metadata": {
        "colab": {
          "base_uri": "https://localhost:8080/"
        },
        "id": "bhouhKHK8_cy",
        "outputId": "a3555695-5df9-4a45-a48e-9bb8d945f3ef"
      },
      "source": [
        "# This is traditional way of using for loop\n",
        "x = [2,5,-7,10,12]\n",
        "\n",
        "y=[]\n",
        "\n",
        "for i in x:\n",
        "    new_number= i + 10\n",
        "    y.append(new_number)\n",
        "\n",
        "\n",
        "print(y)"
      ],
      "execution_count": 2,
      "outputs": [
        {
          "output_type": "stream",
          "name": "stdout",
          "text": [
            "[12, 15, 3, 20, 22]\n"
          ]
        }
      ]
    },
    {
      "cell_type": "code",
      "metadata": {
        "colab": {
          "base_uri": "https://localhost:8080/"
        },
        "id": "M_ggwfOy-bHd",
        "outputId": "0b7e1c37-cc5b-4680-a257-be4b3835ffbb"
      },
      "source": [
        "# a new way using list comprehension\n",
        "\n",
        "y = [i+10 for i in x]\n",
        "\n",
        "print(y)"
      ],
      "execution_count": 3,
      "outputs": [
        {
          "output_type": "stream",
          "name": "stdout",
          "text": [
            "[12, 15, 3, 20, 22]\n"
          ]
        }
      ]
    },
    {
      "cell_type": "markdown",
      "metadata": {
        "id": "vzCSNe-d-29S"
      },
      "source": [
        "## 2. User-defined Function"
      ]
    },
    {
      "cell_type": "code",
      "metadata": {
        "id": "zL8hKFay_MB4"
      },
      "source": [
        "def addition(a,b):\n",
        "    return a+b      "
      ],
      "execution_count": 4,
      "outputs": []
    },
    {
      "cell_type": "code",
      "metadata": {
        "colab": {
          "base_uri": "https://localhost:8080/"
        },
        "id": "va8RjeKI_rbY",
        "outputId": "554e23b3-40e0-42b6-8f6d-d77bd992fe56"
      },
      "source": [
        "y= addition(5,10)\n",
        "\n",
        "print(y)"
      ],
      "execution_count": 5,
      "outputs": [
        {
          "output_type": "stream",
          "name": "stdout",
          "text": [
            "15\n"
          ]
        }
      ]
    },
    {
      "cell_type": "code",
      "metadata": {
        "id": "pMn8vfla_4zV"
      },
      "source": [
        "# division\n",
        "def devision(a,b):\n",
        "    return a/b"
      ],
      "execution_count": 8,
      "outputs": []
    },
    {
      "cell_type": "code",
      "metadata": {
        "colab": {
          "base_uri": "https://localhost:8080/"
        },
        "id": "2R2wptcnAGmN",
        "outputId": "ab49b673-3d9f-4147-d17c-9947963406de"
      },
      "source": [
        "y= devision(10,2)\n",
        "\n",
        "print(y)"
      ],
      "execution_count": 9,
      "outputs": [
        {
          "output_type": "stream",
          "name": "stdout",
          "text": [
            "5.0\n"
          ]
        }
      ]
    }
  ]
}