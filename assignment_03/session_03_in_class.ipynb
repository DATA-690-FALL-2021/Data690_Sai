{
  "nbformat": 4,
  "nbformat_minor": 0,
  "metadata": {
    "colab": {
      "name": "session_03_in_class.ipynb",
      "provenance": [],
      "authorship_tag": "ABX9TyNjgGTBje6JniKPoLfeWf3O",
      "include_colab_link": true
    },
    "kernelspec": {
      "name": "python3",
      "display_name": "Python 3"
    },
    "language_info": {
      "name": "python"
    }
  },
  "cells": [
    {
      "cell_type": "markdown",
      "metadata": {
        "id": "view-in-github",
        "colab_type": "text"
      },
      "source": [
        "<a href=\"https://colab.research.google.com/github/px70339sai/Data690_Sai/blob/main/assignment_03/session_03_in_class.ipynb\" target=\"_parent\"><img src=\"https://colab.research.google.com/assets/colab-badge.svg\" alt=\"Open In Colab\"/></a>"
      ]
    },
    {
      "cell_type": "markdown",
      "metadata": {
        "id": "3wRx14Kk8dIj"
      },
      "source": [
        "# Session 3 In Class Practice\n",
        "- Jay Wang\n",
        "- September 16\n"
      ]
    },
    {
      "cell_type": "markdown",
      "metadata": {
        "id": "1SHEZYde85Bx"
      },
      "source": [
        "## 1. List Comprehension"
      ]
    },
    {
      "cell_type": "code",
      "metadata": {
        "colab": {
          "base_uri": "https://localhost:8080/"
        },
        "id": "bhouhKHK8_cy",
        "outputId": "a3555695-5df9-4a45-a48e-9bb8d945f3ef"
      },
      "source": [
        "# This is traditional way of using for loop\n",
        "x = [2,5,-7,10,12]\n",
        "\n",
        "y=[]\n",
        "\n",
        "for i in x:\n",
        "    new_number= i + 10\n",
        "    y.append(new_number)\n",
        "\n",
        "\n",
        "print(y)"
      ],
      "execution_count": null,
      "outputs": [
        {
          "output_type": "stream",
          "name": "stdout",
          "text": [
            "[12, 15, 3, 20, 22]\n"
          ]
        }
      ]
    },
    {
      "cell_type": "code",
      "metadata": {
        "colab": {
          "base_uri": "https://localhost:8080/"
        },
        "id": "M_ggwfOy-bHd",
        "outputId": "0b7e1c37-cc5b-4680-a257-be4b3835ffbb"
      },
      "source": [
        "# a new way using list comprehension\n",
        "\n",
        "y = [i+10 for i in x]\n",
        "\n",
        "print(y)"
      ],
      "execution_count": null,
      "outputs": [
        {
          "output_type": "stream",
          "name": "stdout",
          "text": [
            "[12, 15, 3, 20, 22]\n"
          ]
        }
      ]
    },
    {
      "cell_type": "markdown",
      "metadata": {
        "id": "vzCSNe-d-29S"
      },
      "source": [
        "## 2. User-defined Function"
      ]
    },
    {
      "cell_type": "code",
      "metadata": {
        "id": "zL8hKFay_MB4"
      },
      "source": [
        "def addition(a,b):\n",
        "    return a+b      "
      ],
      "execution_count": null,
      "outputs": []
    },
    {
      "cell_type": "code",
      "metadata": {
        "colab": {
          "base_uri": "https://localhost:8080/"
        },
        "id": "va8RjeKI_rbY",
        "outputId": "554e23b3-40e0-42b6-8f6d-d77bd992fe56"
      },
      "source": [
        "y= addition(5,10)\n",
        "\n",
        "print(y)"
      ],
      "execution_count": null,
      "outputs": [
        {
          "output_type": "stream",
          "name": "stdout",
          "text": [
            "15\n"
          ]
        }
      ]
    },
    {
      "cell_type": "code",
      "metadata": {
        "id": "pMn8vfla_4zV"
      },
      "source": [
        "# division\n",
        "def devision(a,b):\n",
        "    return a/b"
      ],
      "execution_count": null,
      "outputs": []
    },
    {
      "cell_type": "code",
      "metadata": {
        "colab": {
          "base_uri": "https://localhost:8080/"
        },
        "id": "2R2wptcnAGmN",
        "outputId": "ab49b673-3d9f-4147-d17c-9947963406de"
      },
      "source": [
        "y= devision(10,2)\n",
        "\n",
        "print(y)"
      ],
      "execution_count": null,
      "outputs": [
        {
          "output_type": "stream",
          "name": "stdout",
          "text": [
            "5.0\n"
          ]
        }
      ]
    },
    {
      "cell_type": "markdown",
      "metadata": {
        "id": "kjDFo_hECZET"
      },
      "source": [
        "## 3. Data Wrangling"
      ]
    },
    {
      "cell_type": "code",
      "metadata": {
        "id": "eIPpAgTAD8wi"
      },
      "source": [
        "  1234565"
      ],
      "execution_count": null,
      "outputs": []
    },
    {
      "cell_type": "code",
      "metadata": {
        "id": "WoAFAUxcCeuX",
        "colab": {
          "base_uri": "https://localhost:8080/"
        },
        "outputId": "5115bf96-9027-4ad1-a353-529bd94999af"
      },
      "source": [
        "header_string = \"\"\"\n",
        "  age: continuous.\n",
        "  workclass: Private, Self-emp-not-inc, Self-emp-inc, Federal-gov, Local-gov, State-gov, Without-pay, Never-worked.\n",
        "  fnlwgt: continuous.\n",
        "  education: Bachelors, Some-college, 11th, HS-grad, Prof-school, Assoc-acdm, Assoc-voc, 9th, 7th-8th, 12th, Masters, 1st-4th, 10th, Doctorate, 5th-6th, Preschool.\n",
        "  education-num: continuous.\n",
        "  marital-status: Married-civ-spouse, Divorced, Never-married, Separated, Widowed, Married-spouse-absent, Married-AF-spouse.\n",
        "  occupation: Tech-support, Craft-repair, Other-service, Sales, Exec-managerial, Prof-specialty, Handlers-cleaners, Machine-op-inspct, Adm-clerical, Farming-fishing, Transport-moving, Priv-house-serv, Protective-serv, Armed-Forces.\n",
        "  relationship: Wife, Own-child, Husband, Not-in-family, Other-relative, Unmarried.\n",
        "  race: White, Asian-Pac-Islander, Amer-Indian-Eskimo, Other, Black.\n",
        "  sex: Female, Male.\n",
        "  capital-gain: continuous.\n",
        "  capital-loss: continuous.\n",
        "  hours-per-week: continuous.\n",
        "  native-country: United-States, Cambodia, England, Puerto-Rico, Canada, Germany, Outlying-US(Guam-USVI-etc), India, Japan, Greece, South, China, Cuba, Iran, Honduras, Philippines, Italy, Poland, Jamaica, Vietnam, Mexico, Portugal, Ireland, France, Dominican-Republic, Laos, Ecuador, Taiwan, Haiti, Columbia, Hungary, Guatemala, Nicaragua, Scotland, Thailand, Yugoslavia, El-Salvador, Trinadad&Tobago, Peru, Hong, Holand-Netherlands.\n",
        "\"\"\"\n",
        "\n",
        "type(header_string)\n",
        "\n"
      ],
      "execution_count": null,
      "outputs": [
        {
          "output_type": "execute_result",
          "data": {
            "text/plain": [
              "str"
            ]
          },
          "metadata": {},
          "execution_count": 1
        }
      ]
    },
    {
      "cell_type": "code",
      "metadata": {
        "id": "W7RfXH8GEtcs",
        "colab": {
          "base_uri": "https://localhost:8080/"
        },
        "outputId": "03f35b54-04ba-45b3-c1e5-f9747486c01f"
      },
      "source": [
        "len(header_string)"
      ],
      "execution_count": null,
      "outputs": [
        {
          "output_type": "execute_result",
          "data": {
            "text/plain": [
              "1402"
            ]
          },
          "metadata": {},
          "execution_count": 2
        }
      ]
    },
    {
      "cell_type": "code",
      "metadata": {
        "id": "dOgwd2mHE8mz",
        "colab": {
          "base_uri": "https://localhost:8080/"
        },
        "outputId": "52e08d68-d6be-49cb-a9b2-0dc0b51f9b6d"
      },
      "source": [
        "print(header_string)"
      ],
      "execution_count": null,
      "outputs": [
        {
          "output_type": "stream",
          "name": "stdout",
          "text": [
            "\n",
            "  age: continuous.\n",
            "  workclass: Private, Self-emp-not-inc, Self-emp-inc, Federal-gov, Local-gov, State-gov, Without-pay, Never-worked.\n",
            "  fnlwgt: continuous.\n",
            "  education: Bachelors, Some-college, 11th, HS-grad, Prof-school, Assoc-acdm, Assoc-voc, 9th, 7th-8th, 12th, Masters, 1st-4th, 10th, Doctorate, 5th-6th, Preschool.\n",
            "  education-num: continuous.\n",
            "  marital-status: Married-civ-spouse, Divorced, Never-married, Separated, Widowed, Married-spouse-absent, Married-AF-spouse.\n",
            "  occupation: Tech-support, Craft-repair, Other-service, Sales, Exec-managerial, Prof-specialty, Handlers-cleaners, Machine-op-inspct, Adm-clerical, Farming-fishing, Transport-moving, Priv-house-serv, Protective-serv, Armed-Forces.\n",
            "  relationship: Wife, Own-child, Husband, Not-in-family, Other-relative, Unmarried.\n",
            "  race: White, Asian-Pac-Islander, Amer-Indian-Eskimo, Other, Black.\n",
            "  sex: Female, Male.\n",
            "  capital-gain: continuous.\n",
            "  capital-loss: continuous.\n",
            "  hours-per-week: continuous.\n",
            "  native-country: United-States, Cambodia, England, Puerto-Rico, Canada, Germany, Outlying-US(Guam-USVI-etc), India, Japan, Greece, South, China, Cuba, Iran, Honduras, Philippines, Italy, Poland, Jamaica, Vietnam, Mexico, Portugal, Ireland, France, Dominican-Republic, Laos, Ecuador, Taiwan, Haiti, Columbia, Hungary, Guatemala, Nicaragua, Scotland, Thailand, Yugoslavia, El-Salvador, Trinadad&Tobago, Peru, Hong, Holand-Netherlands.\n",
            "\n"
          ]
        }
      ]
    },
    {
      "cell_type": "code",
      "metadata": {
        "id": "6IGxFeMAE8qT",
        "colab": {
          "base_uri": "https://localhost:8080/"
        },
        "outputId": "beb0926b-9570-44be-e5eb-34c7737475a2"
      },
      "source": [
        "header_list= header_string.split(\"\\n\")\n",
        "print(header_list)"
      ],
      "execution_count": null,
      "outputs": [
        {
          "output_type": "stream",
          "name": "stdout",
          "text": [
            "['', '  age: continuous.', '  workclass: Private, Self-emp-not-inc, Self-emp-inc, Federal-gov, Local-gov, State-gov, Without-pay, Never-worked.', '  fnlwgt: continuous.', '  education: Bachelors, Some-college, 11th, HS-grad, Prof-school, Assoc-acdm, Assoc-voc, 9th, 7th-8th, 12th, Masters, 1st-4th, 10th, Doctorate, 5th-6th, Preschool.', '  education-num: continuous.', '  marital-status: Married-civ-spouse, Divorced, Never-married, Separated, Widowed, Married-spouse-absent, Married-AF-spouse.', '  occupation: Tech-support, Craft-repair, Other-service, Sales, Exec-managerial, Prof-specialty, Handlers-cleaners, Machine-op-inspct, Adm-clerical, Farming-fishing, Transport-moving, Priv-house-serv, Protective-serv, Armed-Forces.', '  relationship: Wife, Own-child, Husband, Not-in-family, Other-relative, Unmarried.', '  race: White, Asian-Pac-Islander, Amer-Indian-Eskimo, Other, Black.', '  sex: Female, Male.', '  capital-gain: continuous.', '  capital-loss: continuous.', '  hours-per-week: continuous.', '  native-country: United-States, Cambodia, England, Puerto-Rico, Canada, Germany, Outlying-US(Guam-USVI-etc), India, Japan, Greece, South, China, Cuba, Iran, Honduras, Philippines, Italy, Poland, Jamaica, Vietnam, Mexico, Portugal, Ireland, France, Dominican-Republic, Laos, Ecuador, Taiwan, Haiti, Columbia, Hungary, Guatemala, Nicaragua, Scotland, Thailand, Yugoslavia, El-Salvador, Trinadad&Tobago, Peru, Hong, Holand-Netherlands.', '']\n"
          ]
        }
      ]
    },
    {
      "cell_type": "code",
      "metadata": {
        "id": "obUWVQAmFbsU",
        "colab": {
          "base_uri": "https://localhost:8080/"
        },
        "outputId": "1f80e0c7-eeb8-4694-d4eb-85a9c6feaf84"
      },
      "source": [
        "len(header_list)"
      ],
      "execution_count": null,
      "outputs": [
        {
          "output_type": "execute_result",
          "data": {
            "text/plain": [
              "16"
            ]
          },
          "metadata": {},
          "execution_count": 5
        }
      ]
    },
    {
      "cell_type": "code",
      "metadata": {
        "id": "8A5s31p8FrRl",
        "colab": {
          "base_uri": "https://localhost:8080/",
          "height": 35
        },
        "outputId": "3a3ba73f-1596-456b-8362-bf62343a5d15"
      },
      "source": [
        "header_list[0]"
      ],
      "execution_count": null,
      "outputs": [
        {
          "output_type": "execute_result",
          "data": {
            "application/vnd.google.colaboratory.intrinsic+json": {
              "type": "string"
            },
            "text/plain": [
              "''"
            ]
          },
          "metadata": {},
          "execution_count": 6
        }
      ]
    },
    {
      "cell_type": "code",
      "metadata": {
        "id": "C2lUl0lVFwax",
        "colab": {
          "base_uri": "https://localhost:8080/",
          "height": 35
        },
        "outputId": "21ca8563-5d7b-4436-b240-6a5945f8ee15"
      },
      "source": [
        "header_list[2]"
      ],
      "execution_count": null,
      "outputs": [
        {
          "output_type": "execute_result",
          "data": {
            "application/vnd.google.colaboratory.intrinsic+json": {
              "type": "string"
            },
            "text/plain": [
              "'  workclass: Private, Self-emp-not-inc, Self-emp-inc, Federal-gov, Local-gov, State-gov, Without-pay, Never-worked.'"
            ]
          },
          "metadata": {},
          "execution_count": 7
        }
      ]
    },
    {
      "cell_type": "code",
      "metadata": {
        "id": "yas2x39EF0gA",
        "colab": {
          "base_uri": "https://localhost:8080/",
          "height": 35
        },
        "outputId": "5c183628-8a65-4483-acd2-47c4f4dcea26"
      },
      "source": [
        "header_list[15]"
      ],
      "execution_count": null,
      "outputs": [
        {
          "output_type": "execute_result",
          "data": {
            "application/vnd.google.colaboratory.intrinsic+json": {
              "type": "string"
            },
            "text/plain": [
              "''"
            ]
          },
          "metadata": {},
          "execution_count": 8
        }
      ]
    },
    {
      "cell_type": "code",
      "metadata": {
        "id": "wCLgFDCqGFiP",
        "colab": {
          "base_uri": "https://localhost:8080/"
        },
        "outputId": "52894ca6-077c-443e-9d50-e565ff762c3b"
      },
      "source": [
        "header_list2= header_list[1:15]\n",
        "header_list2"
      ],
      "execution_count": null,
      "outputs": [
        {
          "output_type": "execute_result",
          "data": {
            "text/plain": [
              "['  age: continuous.',\n",
              " '  workclass: Private, Self-emp-not-inc, Self-emp-inc, Federal-gov, Local-gov, State-gov, Without-pay, Never-worked.',\n",
              " '  fnlwgt: continuous.',\n",
              " '  education: Bachelors, Some-college, 11th, HS-grad, Prof-school, Assoc-acdm, Assoc-voc, 9th, 7th-8th, 12th, Masters, 1st-4th, 10th, Doctorate, 5th-6th, Preschool.',\n",
              " '  education-num: continuous.',\n",
              " '  marital-status: Married-civ-spouse, Divorced, Never-married, Separated, Widowed, Married-spouse-absent, Married-AF-spouse.',\n",
              " '  occupation: Tech-support, Craft-repair, Other-service, Sales, Exec-managerial, Prof-specialty, Handlers-cleaners, Machine-op-inspct, Adm-clerical, Farming-fishing, Transport-moving, Priv-house-serv, Protective-serv, Armed-Forces.',\n",
              " '  relationship: Wife, Own-child, Husband, Not-in-family, Other-relative, Unmarried.',\n",
              " '  race: White, Asian-Pac-Islander, Amer-Indian-Eskimo, Other, Black.',\n",
              " '  sex: Female, Male.',\n",
              " '  capital-gain: continuous.',\n",
              " '  capital-loss: continuous.',\n",
              " '  hours-per-week: continuous.',\n",
              " '  native-country: United-States, Cambodia, England, Puerto-Rico, Canada, Germany, Outlying-US(Guam-USVI-etc), India, Japan, Greece, South, China, Cuba, Iran, Honduras, Philippines, Italy, Poland, Jamaica, Vietnam, Mexico, Portugal, Ireland, France, Dominican-Republic, Laos, Ecuador, Taiwan, Haiti, Columbia, Hungary, Guatemala, Nicaragua, Scotland, Thailand, Yugoslavia, El-Salvador, Trinadad&Tobago, Peru, Hong, Holand-Netherlands.']"
            ]
          },
          "metadata": {},
          "execution_count": 9
        }
      ]
    },
    {
      "cell_type": "code",
      "metadata": {
        "id": "UYjI-WraGd2M",
        "colab": {
          "base_uri": "https://localhost:8080/"
        },
        "outputId": "e875a977-6630-4b18-855b-caeb4c93b0f6"
      },
      "source": [
        "header_list3=[]\n",
        "\n",
        "for item in header_list2:\n",
        "    header_info = item.split(\":\")\n",
        "    print(header_info[0])\n",
        "    header_list3.append(header_info[0])\n",
        "\n",
        "print(header_list3)"
      ],
      "execution_count": null,
      "outputs": [
        {
          "output_type": "stream",
          "name": "stdout",
          "text": [
            "  age\n",
            "  workclass\n",
            "  fnlwgt\n",
            "  education\n",
            "  education-num\n",
            "  marital-status\n",
            "  occupation\n",
            "  relationship\n",
            "  race\n",
            "  sex\n",
            "  capital-gain\n",
            "  capital-loss\n",
            "  hours-per-week\n",
            "  native-country\n",
            "['  age', '  workclass', '  fnlwgt', '  education', '  education-num', '  marital-status', '  occupation', '  relationship', '  race', '  sex', '  capital-gain', '  capital-loss', '  hours-per-week', '  native-country']\n"
          ]
        }
      ]
    },
    {
      "cell_type": "markdown",
      "metadata": {
        "id": "bviVFirMLn98"
      },
      "source": [
        "## 4. Python Dictionary"
      ]
    },
    {
      "cell_type": "code",
      "metadata": {
        "id": "zfFuKuYeLxp1",
        "outputId": "21e4c49f-fb0a-4855-e28a-a52c528b1b1a",
        "colab": {
          "base_uri": "https://localhost:8080/"
        }
      },
      "source": [
        "x= {\"Age\": 90}\n",
        "y= {\"Age\":90, \"Last_Name\": \"Bandaru\", \"Gender\": \"Female\"}\n",
        "\n",
        "print(x,y)"
      ],
      "execution_count": 13,
      "outputs": [
        {
          "output_type": "stream",
          "name": "stdout",
          "text": [
            "{'Age': 90} {'Age': 90, 'Last_Name': 'Bandaru', 'Gender': 'Female'}\n"
          ]
        }
      ]
    },
    {
      "cell_type": "code",
      "metadata": {
        "id": "uwtvr22HMPc4",
        "outputId": "cefd006f-ed72-49f8-cba5-a21762162574",
        "colab": {
          "base_uri": "https://localhost:8080/"
        }
      },
      "source": [
        "y[\"Age\"]"
      ],
      "execution_count": 14,
      "outputs": [
        {
          "output_type": "execute_result",
          "data": {
            "text/plain": [
              "90"
            ]
          },
          "metadata": {},
          "execution_count": 14
        }
      ]
    },
    {
      "cell_type": "code",
      "metadata": {
        "id": "el9taC73Mac7",
        "outputId": "bf5887b9-ee95-4349-bbd9-9a6aa0668bf4",
        "colab": {
          "base_uri": "https://localhost:8080/",
          "height": 35
        }
      },
      "source": [
        "y[\"Gender\"]"
      ],
      "execution_count": 16,
      "outputs": [
        {
          "output_type": "execute_result",
          "data": {
            "application/vnd.google.colaboratory.intrinsic+json": {
              "type": "string"
            },
            "text/plain": [
              "'Female'"
            ]
          },
          "metadata": {},
          "execution_count": 16
        }
      ]
    },
    {
      "cell_type": "code",
      "metadata": {
        "id": "qK_CAxGKMuRw",
        "outputId": "b20c2b99-91f4-4c5c-915f-9308f53b0c90",
        "colab": {
          "base_uri": "https://localhost:8080/"
        }
      },
      "source": [
        "header_list2"
      ],
      "execution_count": 17,
      "outputs": [
        {
          "output_type": "execute_result",
          "data": {
            "text/plain": [
              "['  age: continuous.',\n",
              " '  workclass: Private, Self-emp-not-inc, Self-emp-inc, Federal-gov, Local-gov, State-gov, Without-pay, Never-worked.',\n",
              " '  fnlwgt: continuous.',\n",
              " '  education: Bachelors, Some-college, 11th, HS-grad, Prof-school, Assoc-acdm, Assoc-voc, 9th, 7th-8th, 12th, Masters, 1st-4th, 10th, Doctorate, 5th-6th, Preschool.',\n",
              " '  education-num: continuous.',\n",
              " '  marital-status: Married-civ-spouse, Divorced, Never-married, Separated, Widowed, Married-spouse-absent, Married-AF-spouse.',\n",
              " '  occupation: Tech-support, Craft-repair, Other-service, Sales, Exec-managerial, Prof-specialty, Handlers-cleaners, Machine-op-inspct, Adm-clerical, Farming-fishing, Transport-moving, Priv-house-serv, Protective-serv, Armed-Forces.',\n",
              " '  relationship: Wife, Own-child, Husband, Not-in-family, Other-relative, Unmarried.',\n",
              " '  race: White, Asian-Pac-Islander, Amer-Indian-Eskimo, Other, Black.',\n",
              " '  sex: Female, Male.',\n",
              " '  capital-gain: continuous.',\n",
              " '  capital-loss: continuous.',\n",
              " '  hours-per-week: continuous.',\n",
              " '  native-country: United-States, Cambodia, England, Puerto-Rico, Canada, Germany, Outlying-US(Guam-USVI-etc), India, Japan, Greece, South, China, Cuba, Iran, Honduras, Philippines, Italy, Poland, Jamaica, Vietnam, Mexico, Portugal, Ireland, France, Dominican-Republic, Laos, Ecuador, Taiwan, Haiti, Columbia, Hungary, Guatemala, Nicaragua, Scotland, Thailand, Yugoslavia, El-Salvador, Trinadad&Tobago, Peru, Hong, Holand-Netherlands.']"
            ]
          },
          "metadata": {},
          "execution_count": 17
        }
      ]
    },
    {
      "cell_type": "code",
      "metadata": {
        "id": "2NLBUCHZM7Kq",
        "outputId": "d9ab9004-5fa3-4250-b6b5-7d5f02522d67",
        "colab": {
          "base_uri": "https://localhost:8080/"
        }
      },
      "source": [
        "a = {}\n",
        "type(a)"
      ],
      "execution_count": 18,
      "outputs": [
        {
          "output_type": "execute_result",
          "data": {
            "text/plain": [
              "dict"
            ]
          },
          "metadata": {},
          "execution_count": 18
        }
      ]
    },
    {
      "cell_type": "code",
      "metadata": {
        "id": "2cFFf-wMNGKD",
        "outputId": "c0cdff53-098a-4720-b553-4e0da6198749",
        "colab": {
          "base_uri": "https://localhost:8080/"
        }
      },
      "source": [
        "# tuple\n",
        "c= (\"Age\",80)\n",
        "print(c)"
      ],
      "execution_count": 24,
      "outputs": [
        {
          "output_type": "stream",
          "name": "stdout",
          "text": [
            "('Age', 80)\n"
          ]
        }
      ]
    },
    {
      "cell_type": "code",
      "metadata": {
        "id": "bJ1NoRB8OCeR",
        "outputId": "82589580-c92c-4cc4-fc05-b089092da79a",
        "colab": {
          "base_uri": "https://localhost:8080/"
        }
      },
      "source": [
        "a = dict([(\"Age\",80)])\n",
        "print(a)"
      ],
      "execution_count": 27,
      "outputs": [
        {
          "output_type": "stream",
          "name": "stdout",
          "text": [
            "{'Age': 80}\n"
          ]
        }
      ]
    },
    {
      "cell_type": "code",
      "metadata": {
        "id": "S-X76_ckOUz0",
        "outputId": "a9bbb8bc-c5e7-4aa5-e945-6c92c5190223",
        "colab": {
          "base_uri": "https://localhost:8080/"
        }
      },
      "source": [
        "a = dict([(\"Age\",80), (\"Last_Name\", \"Bandaru\"),(\"Gender\",\"Female\")])\n",
        "print(a)"
      ],
      "execution_count": 28,
      "outputs": [
        {
          "output_type": "stream",
          "name": "stdout",
          "text": [
            "{'Age': 80, 'Last_Name': 'Bandaru', 'Gender': 'Female'}\n"
          ]
        }
      ]
    },
    {
      "cell_type": "code",
      "metadata": {
        "id": "SbETXrT8Oztd",
        "outputId": "72a5cfb5-0435-4e76-fefe-64c197f8f351",
        "colab": {
          "base_uri": "https://localhost:8080/"
        }
      },
      "source": [
        "tuple_list= []\n",
        "\n",
        "for item in header_list2:\n",
        "    header_info= item.split(\":\")\n",
        "    header_tuple = (header_info[0].strip(), header_info[1])\n",
        "    print(header_tuple)\n",
        "    tuple_list.append(header_tuple)\n",
        "\n",
        "print(tuple_list)"
      ],
      "execution_count": 38,
      "outputs": [
        {
          "output_type": "stream",
          "name": "stdout",
          "text": [
            "('age', ' continuous.')\n",
            "('workclass', ' Private, Self-emp-not-inc, Self-emp-inc, Federal-gov, Local-gov, State-gov, Without-pay, Never-worked.')\n",
            "('fnlwgt', ' continuous.')\n",
            "('education', ' Bachelors, Some-college, 11th, HS-grad, Prof-school, Assoc-acdm, Assoc-voc, 9th, 7th-8th, 12th, Masters, 1st-4th, 10th, Doctorate, 5th-6th, Preschool.')\n",
            "('education-num', ' continuous.')\n",
            "('marital-status', ' Married-civ-spouse, Divorced, Never-married, Separated, Widowed, Married-spouse-absent, Married-AF-spouse.')\n",
            "('occupation', ' Tech-support, Craft-repair, Other-service, Sales, Exec-managerial, Prof-specialty, Handlers-cleaners, Machine-op-inspct, Adm-clerical, Farming-fishing, Transport-moving, Priv-house-serv, Protective-serv, Armed-Forces.')\n",
            "('relationship', ' Wife, Own-child, Husband, Not-in-family, Other-relative, Unmarried.')\n",
            "('race', ' White, Asian-Pac-Islander, Amer-Indian-Eskimo, Other, Black.')\n",
            "('sex', ' Female, Male.')\n",
            "('capital-gain', ' continuous.')\n",
            "('capital-loss', ' continuous.')\n",
            "('hours-per-week', ' continuous.')\n",
            "('native-country', ' United-States, Cambodia, England, Puerto-Rico, Canada, Germany, Outlying-US(Guam-USVI-etc), India, Japan, Greece, South, China, Cuba, Iran, Honduras, Philippines, Italy, Poland, Jamaica, Vietnam, Mexico, Portugal, Ireland, France, Dominican-Republic, Laos, Ecuador, Taiwan, Haiti, Columbia, Hungary, Guatemala, Nicaragua, Scotland, Thailand, Yugoslavia, El-Salvador, Trinadad&Tobago, Peru, Hong, Holand-Netherlands.')\n",
            "[('age', ' continuous.'), ('workclass', ' Private, Self-emp-not-inc, Self-emp-inc, Federal-gov, Local-gov, State-gov, Without-pay, Never-worked.'), ('fnlwgt', ' continuous.'), ('education', ' Bachelors, Some-college, 11th, HS-grad, Prof-school, Assoc-acdm, Assoc-voc, 9th, 7th-8th, 12th, Masters, 1st-4th, 10th, Doctorate, 5th-6th, Preschool.'), ('education-num', ' continuous.'), ('marital-status', ' Married-civ-spouse, Divorced, Never-married, Separated, Widowed, Married-spouse-absent, Married-AF-spouse.'), ('occupation', ' Tech-support, Craft-repair, Other-service, Sales, Exec-managerial, Prof-specialty, Handlers-cleaners, Machine-op-inspct, Adm-clerical, Farming-fishing, Transport-moving, Priv-house-serv, Protective-serv, Armed-Forces.'), ('relationship', ' Wife, Own-child, Husband, Not-in-family, Other-relative, Unmarried.'), ('race', ' White, Asian-Pac-Islander, Amer-Indian-Eskimo, Other, Black.'), ('sex', ' Female, Male.'), ('capital-gain', ' continuous.'), ('capital-loss', ' continuous.'), ('hours-per-week', ' continuous.'), ('native-country', ' United-States, Cambodia, England, Puerto-Rico, Canada, Germany, Outlying-US(Guam-USVI-etc), India, Japan, Greece, South, China, Cuba, Iran, Honduras, Philippines, Italy, Poland, Jamaica, Vietnam, Mexico, Portugal, Ireland, France, Dominican-Republic, Laos, Ecuador, Taiwan, Haiti, Columbia, Hungary, Guatemala, Nicaragua, Scotland, Thailand, Yugoslavia, El-Salvador, Trinadad&Tobago, Peru, Hong, Holand-Netherlands.')]\n"
          ]
        }
      ]
    },
    {
      "cell_type": "code",
      "metadata": {
        "id": "EDQkIl4uQJ__",
        "outputId": "60d533c1-d904-4254-ae2d-22d10252b49f",
        "colab": {
          "base_uri": "https://localhost:8080/"
        }
      },
      "source": [
        "header_dict=dict(tuple_list)\n",
        "print(header_dict)"
      ],
      "execution_count": 39,
      "outputs": [
        {
          "output_type": "stream",
          "name": "stdout",
          "text": [
            "{'age': ' continuous.', 'workclass': ' Private, Self-emp-not-inc, Self-emp-inc, Federal-gov, Local-gov, State-gov, Without-pay, Never-worked.', 'fnlwgt': ' continuous.', 'education': ' Bachelors, Some-college, 11th, HS-grad, Prof-school, Assoc-acdm, Assoc-voc, 9th, 7th-8th, 12th, Masters, 1st-4th, 10th, Doctorate, 5th-6th, Preschool.', 'education-num': ' continuous.', 'marital-status': ' Married-civ-spouse, Divorced, Never-married, Separated, Widowed, Married-spouse-absent, Married-AF-spouse.', 'occupation': ' Tech-support, Craft-repair, Other-service, Sales, Exec-managerial, Prof-specialty, Handlers-cleaners, Machine-op-inspct, Adm-clerical, Farming-fishing, Transport-moving, Priv-house-serv, Protective-serv, Armed-Forces.', 'relationship': ' Wife, Own-child, Husband, Not-in-family, Other-relative, Unmarried.', 'race': ' White, Asian-Pac-Islander, Amer-Indian-Eskimo, Other, Black.', 'sex': ' Female, Male.', 'capital-gain': ' continuous.', 'capital-loss': ' continuous.', 'hours-per-week': ' continuous.', 'native-country': ' United-States, Cambodia, England, Puerto-Rico, Canada, Germany, Outlying-US(Guam-USVI-etc), India, Japan, Greece, South, China, Cuba, Iran, Honduras, Philippines, Italy, Poland, Jamaica, Vietnam, Mexico, Portugal, Ireland, France, Dominican-Republic, Laos, Ecuador, Taiwan, Haiti, Columbia, Hungary, Guatemala, Nicaragua, Scotland, Thailand, Yugoslavia, El-Salvador, Trinadad&Tobago, Peru, Hong, Holand-Netherlands.'}\n"
          ]
        }
      ]
    }
  ]
}