{
  "nbformat": 4,
  "nbformat_minor": 0,
  "metadata": {
    "colab": {
      "name": "insession02.ipynb",
      "provenance": [],
      "authorship_tag": "ABX9TyPdg+EDw/gS8do39JcqtBef",
      "include_colab_link": true
    },
    "kernelspec": {
      "name": "python3",
      "display_name": "Python 3"
    },
    "language_info": {
      "name": "python"
    }
  },
  "cells": [
    {
      "cell_type": "markdown",
      "metadata": {
        "id": "view-in-github",
        "colab_type": "text"
      },
      "source": [
        "<a href=\"https://colab.research.google.com/github/px70339sai/Data690_Sai/blob/main/assignment_02/insession02.ipynb\" target=\"_parent\"><img src=\"https://colab.research.google.com/assets/colab-badge.svg\" alt=\"Open In Colab\"/></a>"
      ]
    },
    {
      "cell_type": "markdown",
      "metadata": {
        "id": "1lOm553S_mKu"
      },
      "source": [
        "## In Session hands on practice\n",
        "Dr Wang"
      ]
    },
    {
      "cell_type": "markdown",
      "metadata": {
        "id": "Whxe9rZy_76j"
      },
      "source": [
        "## 1. Simple Types"
      ]
    },
    {
      "cell_type": "code",
      "metadata": {
        "colab": {
          "base_uri": "https://localhost:8080/"
        },
        "id": "Y21vNoyV_0RG",
        "outputId": "87ba3abf-5da5-42a6-9616-9c4949ad67aa"
      },
      "source": [
        "x=2\n",
        "y=0.5\n",
        "z= \"Nitya\"\n",
        "print(x,y,z)"
      ],
      "execution_count": 3,
      "outputs": [
        {
          "output_type": "stream",
          "name": "stdout",
          "text": [
            "2 0.5 Nitya\n"
          ]
        }
      ]
    },
    {
      "cell_type": "code",
      "metadata": {
        "colab": {
          "base_uri": "https://localhost:8080/"
        },
        "id": "T-wQI-NXEMEF",
        "outputId": "8b2fa3b8-c3b8-4ae7-b628-d1c881ecf90c"
      },
      "source": [
        "type(x)"
      ],
      "execution_count": 4,
      "outputs": [
        {
          "output_type": "execute_result",
          "data": {
            "text/plain": [
              "int"
            ]
          },
          "metadata": {},
          "execution_count": 4
        }
      ]
    },
    {
      "cell_type": "code",
      "metadata": {
        "colab": {
          "base_uri": "https://localhost:8080/"
        },
        "id": "uEf6iggeEStm",
        "outputId": "0e4b4056-8937-4ac0-90a0-3d2d12c58168"
      },
      "source": [
        "type(z)"
      ],
      "execution_count": 5,
      "outputs": [
        {
          "output_type": "execute_result",
          "data": {
            "text/plain": [
              "str"
            ]
          },
          "metadata": {},
          "execution_count": 5
        }
      ]
    },
    {
      "cell_type": "markdown",
      "metadata": {
        "id": "lkn0AvS9EU4F"
      },
      "source": [
        "## 2. Collection Types"
      ]
    },
    {
      "cell_type": "code",
      "metadata": {
        "colab": {
          "base_uri": "https://localhost:8080/"
        },
        "id": "wzWRL2iKEj-K",
        "outputId": "9bc35878-4712-4dd8-9533-90d7bc4f8532"
      },
      "source": [
        "a_list=[1,4,7,10]\n",
        "print(a_list)\n"
      ],
      "execution_count": 6,
      "outputs": [
        {
          "output_type": "stream",
          "name": "stdout",
          "text": [
            "[1, 4, 7, 10]\n"
          ]
        }
      ]
    },
    {
      "cell_type": "code",
      "metadata": {
        "colab": {
          "base_uri": "https://localhost:8080/"
        },
        "id": "K2Dm26OJEspw",
        "outputId": "87bb4454-b9e7-4615-a058-96eb43a40a84"
      },
      "source": [
        "type(a_list)"
      ],
      "execution_count": 7,
      "outputs": [
        {
          "output_type": "execute_result",
          "data": {
            "text/plain": [
              "list"
            ]
          },
          "metadata": {},
          "execution_count": 7
        }
      ]
    },
    {
      "cell_type": "markdown",
      "metadata": {
        "id": "whQ2pa-7EyIM"
      },
      "source": [
        " ## 3. Loop"
      ]
    },
    {
      "cell_type": "code",
      "metadata": {
        "colab": {
          "base_uri": "https://localhost:8080/"
        },
        "id": "Vqxfg4_YE5Hw",
        "outputId": "fe18ce1a-f838-4490-ca7a-d2aafc2e747b"
      },
      "source": [
        "for i in a_list:\n",
        "    print(\"integer\" , i)"
      ],
      "execution_count": 8,
      "outputs": [
        {
          "output_type": "stream",
          "name": "stdout",
          "text": [
            "integer 1\n",
            "integer 4\n",
            "integer 7\n",
            "integer 10\n"
          ]
        }
      ]
    },
    {
      "cell_type": "markdown",
      "metadata": {
        "id": "9G3avcifFx8N"
      },
      "source": [
        "## 4. Conditions"
      ]
    },
    {
      "cell_type": "code",
      "metadata": {
        "colab": {
          "base_uri": "https://localhost:8080/"
        },
        "id": "BnkKTfi6F44J",
        "outputId": "c7122940-c0a3-4e4d-abe7-0a404d48e13e"
      },
      "source": [
        "print(10%2) #modulo"
      ],
      "execution_count": 9,
      "outputs": [
        {
          "output_type": "stream",
          "name": "stdout",
          "text": [
            "0\n"
          ]
        }
      ]
    },
    {
      "cell_type": "code",
      "metadata": {
        "colab": {
          "base_uri": "https://localhost:8080/"
        },
        "id": "HFWp28OLGfti",
        "outputId": "1ee7d0cd-840c-4ef4-8a06-e71706ecc7b5"
      },
      "source": [
        "print(23%2) #modulo"
      ],
      "execution_count": 10,
      "outputs": [
        {
          "output_type": "stream",
          "name": "stdout",
          "text": [
            "1\n"
          ]
        }
      ]
    },
    {
      "cell_type": "code",
      "metadata": {
        "colab": {
          "base_uri": "https://localhost:8080/"
        },
        "id": "LdOvXSOPGla5",
        "outputId": "f8b81ec3-9b91-4bd7-aef6-565e3d452339"
      },
      "source": [
        "for i in a_list:\n",
        "    if i %2==1:\n",
        "        print(\"integer\" ,i)"
      ],
      "execution_count": 12,
      "outputs": [
        {
          "output_type": "stream",
          "name": "stdout",
          "text": [
            "integer 1\n",
            "integer 7\n"
          ]
        }
      ]
    }
  ]
}