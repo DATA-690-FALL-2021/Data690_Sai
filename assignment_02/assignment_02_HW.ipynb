{
  "nbformat": 4,
  "nbformat_minor": 0,
  "metadata": {
    "colab": {
      "name": "Untitled0.ipynb",
      "provenance": [],
      "authorship_tag": "ABX9TyPRGsaODsi5jJy+Qz4dEkD2",
      "include_colab_link": true
    },
    "kernelspec": {
      "name": "python3",
      "display_name": "Python 3"
    },
    "language_info": {
      "name": "python"
    }
  },
  "cells": [
    {
      "cell_type": "markdown",
      "metadata": {
        "id": "view-in-github",
        "colab_type": "text"
      },
      "source": [
        "<a href=\"https://colab.research.google.com/github/px70339sai/Data690_Sai/blob/main/assignment_02/assignment_02_HW.ipynb\" target=\"_parent\"><img src=\"https://colab.research.google.com/assets/colab-badge.svg\" alt=\"Open In Colab\"/></a>"
      ]
    },
    {
      "cell_type": "markdown",
      "metadata": {
        "id": "5eY2SK_HwTmo"
      },
      "source": [
        "# Assignment 2 Homework"
      ]
    },
    {
      "cell_type": "markdown",
      "metadata": {
        "id": "S5ENwKK3wbcL"
      },
      "source": [
        "### Allowing Users to enter 10 integers"
      ]
    },
    {
      "cell_type": "code",
      "metadata": {
        "colab": {
          "base_uri": "https://localhost:8080/"
        },
        "id": "fSr5tfXTwdlT",
        "outputId": "bdd2a140-cfc6-41b9-acc8-e7fbc75d6833"
      },
      "source": [
        "integers_list = []\n",
        "\n",
        "for i in range(0,10):\n",
        "    while True:\n",
        "        x = input(\"Please enter an integer: \")\n",
        "        try:\n",
        "            y = int(x)\n",
        "            integers_list.append(y)\n",
        "            print(\"Integer \" + str(y) + \" accepted\")\n",
        "            break\n",
        "        except Exception as e:\n",
        "            print(\"You must enter an integer. Please try again.\")\n",
        "            \n",
        "print(integers_list)"
      ],
      "execution_count": 3,
      "outputs": [
        {
          "output_type": "stream",
          "name": "stdout",
          "text": [
            "Please enter an integer: 94\n",
            "Integer 94 accepted\n",
            "Please enter an integer: 11\n",
            "Integer 11 accepted\n",
            "Please enter an integer: 0\n",
            "Integer 0 accepted\n",
            "Please enter an integer: 88\n",
            "Integer 88 accepted\n",
            "Please enter an integer: 66\n",
            "Integer 66 accepted\n",
            "Please enter an integer: 32\n",
            "Integer 32 accepted\n",
            "Please enter an integer: 99\n",
            "Integer 99 accepted\n",
            "Please enter an integer: 72\n",
            "Integer 72 accepted\n",
            "Please enter an integer: 52\n",
            "Integer 52 accepted\n",
            "Please enter an integer: 44\n",
            "Integer 44 accepted\n",
            "[94, 11, 0, 88, 66, 32, 99, 72, 52, 44]\n"
          ]
        }
      ]
    },
    {
      "cell_type": "markdown",
      "metadata": {
        "id": "fmbTAz13wrD6"
      },
      "source": [
        "### Calculating Minimun & Maximum numbers in a list using for loop"
      ]
    },
    {
      "cell_type": "code",
      "metadata": {
        "colab": {
          "base_uri": "https://localhost:8080/"
        },
        "id": "kU348m1ZwonL",
        "outputId": "b7a0c73d-a105-46ba-b79d-6004fb0831cb"
      },
      "source": [
        "MAX = integers_list[0]\n",
        "MIN = integers_list[0]\n",
        "SUM = 0\n",
        "\n",
        "for i in integers_list:\n",
        "    SUM = SUM + i\n",
        "    if i > MAX:\n",
        "        MAX = i\n",
        "    elif i < MIN:\n",
        "        MIN = i\n",
        "        \n",
        "print(\"Maximum number is :\", MAX)\n",
        "print(\"Minimum number is :\", MIN)    "
      ],
      "execution_count": 4,
      "outputs": [
        {
          "output_type": "stream",
          "name": "stdout",
          "text": [
            "Maximum number is : 99\n",
            "Minimum number is : 0\n"
          ]
        }
      ]
    },
    {
      "cell_type": "markdown",
      "metadata": {
        "id": "Ox2lZllJwwPD"
      },
      "source": [
        "### Calculating Range in the list (Max -Min)"
      ]
    },
    {
      "cell_type": "code",
      "metadata": {
        "colab": {
          "base_uri": "https://localhost:8080/"
        },
        "id": "dVyQJOEowxEX",
        "outputId": "996b4d3d-ce60-4823-86d1-557cd81f8a52"
      },
      "source": [
        "List_range = MAX - MIN\n",
        "print(\"Range is :\", List_range)"
      ],
      "execution_count": 5,
      "outputs": [
        {
          "output_type": "stream",
          "name": "stdout",
          "text": [
            "Range is : 99\n"
          ]
        }
      ]
    },
    {
      "cell_type": "markdown",
      "metadata": {
        "id": "b7hsJVNfwy1H"
      },
      "source": [
        "### Calculating Mean"
      ]
    },
    {
      "cell_type": "markdown",
      "metadata": {
        "id": "4yRL-iDFw7TG"
      },
      "source": [
        "##### (Sum of observations / No. of observations)\n",
        "\n"
      ]
    },
    {
      "cell_type": "code",
      "metadata": {
        "colab": {
          "base_uri": "https://localhost:8080/"
        },
        "id": "hMzUyo5rw8qH",
        "outputId": "9ecb16fa-c234-452e-d0e9-ab6a09469627"
      },
      "source": [
        "mean = int(SUM) / len(integers_list)\n",
        "print(\"Mean is : \", mean)"
      ],
      "execution_count": 6,
      "outputs": [
        {
          "output_type": "stream",
          "name": "stdout",
          "text": [
            "Mean is :  55.8\n"
          ]
        }
      ]
    },
    {
      "cell_type": "markdown",
      "metadata": {
        "id": "a0sah2_7xAz7"
      },
      "source": [
        "### Calculating variance"
      ]
    },
    {
      "cell_type": "markdown",
      "metadata": {
        "id": "t9QAMSg9xCUW"
      },
      "source": [
        "##### Using Standard formula for variance"
      ]
    },
    {
      "cell_type": "code",
      "metadata": {
        "colab": {
          "base_uri": "https://localhost:8080/"
        },
        "id": "y9qQBeC0xEX9",
        "outputId": "deba6104-bb9c-4519-d5a3-a16d93e42e84"
      },
      "source": [
        "variance = 0\n",
        "for i in integers_list:\n",
        "    variance = variance + (i - mean)**2\n",
        "variance = variance / len(integers_list) -1\n",
        "print(variance)"
      ],
      "execution_count": 7,
      "outputs": [
        {
          "output_type": "stream",
          "name": "stdout",
          "text": [
            "1055.96\n"
          ]
        }
      ]
    },
    {
      "cell_type": "markdown",
      "metadata": {
        "id": "GJeiWpqxxTY1"
      },
      "source": [
        "### Calculating Standard deviation"
      ]
    },
    {
      "cell_type": "code",
      "metadata": {
        "colab": {
          "base_uri": "https://localhost:8080/"
        },
        "id": "lfmPz-flxUjB",
        "outputId": "5a90720e-5aad-4d28-f7d7-4135e59de237"
      },
      "source": [
        "import math\n",
        "math.sqrt(variance)"
      ],
      "execution_count": 8,
      "outputs": [
        {
          "output_type": "execute_result",
          "data": {
            "text/plain": [
              "32.49553815526064"
            ]
          },
          "metadata": {},
          "execution_count": 8
        }
      ]
    }
  ]
}