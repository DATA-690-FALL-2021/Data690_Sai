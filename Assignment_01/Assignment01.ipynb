{
  "nbformat": 4,
  "nbformat_minor": 0,
  "metadata": {
    "colab": {
      "name": "Assignment01.ipynb",
      "provenance": [],
      "authorship_tag": "ABX9TyMzpJobw6JYzzXCQPHfWoAm",
      "include_colab_link": true
    },
    "kernelspec": {
      "name": "python3",
      "display_name": "Python 3"
    },
    "language_info": {
      "name": "python"
    }
  },
  "cells": [
    {
      "cell_type": "markdown",
      "metadata": {
        "id": "view-in-github",
        "colab_type": "text"
      },
      "source": [
        "<a href=\"https://colab.research.google.com/github/px70339sai/Data690_Sai/blob/main/Assignment_01/Assignment01.ipynb\" target=\"_parent\"><img src=\"https://colab.research.google.com/assets/colab-badge.svg\" alt=\"Open In Colab\"/></a>"
      ]
    },
    {
      "cell_type": "markdown",
      "metadata": {
        "id": "5UrK7Wzxyons"
      },
      "source": [
        "## This is for the fall semester 2021\n",
        "-Instructor- Dr Jay Wang\n",
        "\n",
        "-Student- Sai Naga\n",
        "\n",
        "-Date- 09/02/2021"
      ]
    },
    {
      "cell_type": "markdown",
      "metadata": {
        "id": "41QXxejHzKFl"
      },
      "source": [
        "## Perform Adiition"
      ]
    },
    {
      "cell_type": "code",
      "metadata": {
        "colab": {
          "base_uri": "https://localhost:8080/"
        },
        "id": "vLjn2lxnzNd3",
        "outputId": "daf6ce23-dbdf-4ad0-b860-b2adda599b58"
      },
      "source": [
        "x=20+3\n",
        "print(x)"
      ],
      "execution_count": 1,
      "outputs": [
        {
          "output_type": "stream",
          "name": "stdout",
          "text": [
            "23\n"
          ]
        }
      ]
    },
    {
      "cell_type": "markdown",
      "metadata": {
        "id": "VZzOHAs-zVHQ"
      },
      "source": [
        ""
      ]
    },
    {
      "cell_type": "markdown",
      "metadata": {
        "id": "ZEfyfbhozV3s"
      },
      "source": [
        "## Perform Multiplication"
      ]
    },
    {
      "cell_type": "code",
      "metadata": {
        "colab": {
          "base_uri": "https://localhost:8080/"
        },
        "id": "sH-OggMgzbz1",
        "outputId": "ad47a722-8611-480b-a858-435131a0f40d"
      },
      "source": [
        "y= 2*3\n",
        "print(y)"
      ],
      "execution_count": 2,
      "outputs": [
        {
          "output_type": "stream",
          "name": "stdout",
          "text": [
            "6\n"
          ]
        }
      ]
    },
    {
      "cell_type": "markdown",
      "metadata": {
        "id": "lO2NMYACzlz0"
      },
      "source": [
        "## Perform Divison"
      ]
    },
    {
      "cell_type": "code",
      "metadata": {
        "colab": {
          "base_uri": "https://localhost:8080/"
        },
        "id": "Yf3dqgfcztrX",
        "outputId": "469926a3-6494-4710-fe32-8ae48b9f7156"
      },
      "source": [
        "x= 4/2\n",
        "print(x)"
      ],
      "execution_count": 3,
      "outputs": [
        {
          "output_type": "stream",
          "name": "stdout",
          "text": [
            "2.0\n"
          ]
        }
      ]
    }
  ]
}